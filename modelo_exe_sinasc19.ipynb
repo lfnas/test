{
  "nbformat": 4,
  "nbformat_minor": 0,
  "metadata": {
    "colab": {
      "name": "modelo_exe_sinasc19.ipynb",
      "provenance": []
    },
    "kernelspec": {
      "name": "python3",
      "display_name": "Python 3"
    },
    "language_info": {
      "name": "python"
    }
  },
  "cells": [
    {
      "cell_type": "code",
      "metadata": {
        "id": "mGs7xDl49GPj"
      },
      "source": [
        "import numpy as np # linear algebra\n",
        "import pandas as pd # data processing / manipulation\n",
        "\n",
        "# Machine Learning Models\n",
        "from sklearn.model_selection import train_test_split\n",
        "from sklearn import linear_model\n",
        "from sklearn.neighbors import KNeighborsRegressor\n",
        "from sklearn.linear_model import LogisticRegression\n",
        "from sklearn.ensemble import RandomForestRegressor\n",
        "from sklearn.tree import DecisionTreeRegressor\n",
        "from sklearn.linear_model import LinearRegression\n",
        "from sklearn.svm import SVR\n",
        "\n",
        "# métricas\n",
        "import  sklearn.metrics  as  metrics\n",
        "from sklearn.metrics import mean_absolute_error\n",
        "from sklearn.metrics import mean_squared_error\n",
        "from sklearn.metrics import r2_score\n",
        "\n",
        "# Dimensionality reduction\n",
        "from sklearn.decomposition import PCA\n",
        "from sklearn.preprocessing import StandardScaler\n",
        "\n",
        "\n",
        "# Data Visualization\n",
        "import seaborn as sns\n",
        "%matplotlib inline\n",
        "from matplotlib import pyplot as plt\n",
        "from matplotlib import style"
      ],
      "execution_count": 1,
      "outputs": []
    },
    {
      "cell_type": "code",
      "metadata": {
        "colab": {
          "base_uri": "https://localhost:8080/"
        },
        "id": "m8f0E1Cj9KGE",
        "outputId": "1258437b-fbd9-472e-80ee-1f0ffaa09c0f"
      },
      "source": [
        "from google.colab import drive\n",
        "drive.mount('/content/drive')"
      ],
      "execution_count": 2,
      "outputs": [
        {
          "output_type": "stream",
          "name": "stdout",
          "text": [
            "Drive already mounted at /content/drive; to attempt to forcibly remount, call drive.mount(\"/content/drive\", force_remount=True).\n"
          ]
        }
      ]
    },
    {
      "cell_type": "code",
      "metadata": {
        "colab": {
          "base_uri": "https://localhost:8080/"
        },
        "id": "ZUACShda9OB5",
        "outputId": "2f0168e5-ad01-47c7-e3f7-e92c725b48c6"
      },
      "source": [
        "import os\n",
        "workdir_path = '/content/drive/MyDrive/datasets'\n",
        "os.chdir(workdir_path)\n",
        "!ls"
      ],
      "execution_count": 3,
      "outputs": [
        {
          "output_type": "stream",
          "name": "stdout",
          "text": [
            "AP_cap.png  AP_drop.png  boxplot_origin.png  sinascrj19.csv\n"
          ]
        }
      ]
    },
    {
      "cell_type": "code",
      "metadata": {
        "colab": {
          "base_uri": "https://localhost:8080/"
        },
        "id": "iIOwMaI79PmB",
        "outputId": "2b0dffef-c666-4b3f-ef57-273ef52c7a61"
      },
      "source": [
        "sinasc19 = pd.read_csv('sinascrj19.csv')\n",
        "print(sinasc19.shape)"
      ],
      "execution_count": 4,
      "outputs": [
        {
          "output_type": "stream",
          "name": "stdout",
          "text": [
            "(207989, 61)\n"
          ]
        }
      ]
    },
    {
      "cell_type": "code",
      "metadata": {
        "id": "XmJzmfiC9bDb"
      },
      "source": [
        "# Exclusão de variáveis sem nulas ou sem relação com o objeto\n",
        "sinasc19 = sinasc19.drop(columns=['ORIGEM', 'STDNEPIDEM', 'STDNNOVA', 'CODPAISRES', 'TPNASCASSI',\n",
        "                                  'DTCADASTRO', 'CODMUNNASC'], axis=1)"
      ],
      "execution_count": 5,
      "outputs": []
    },
    {
      "cell_type": "code",
      "metadata": {
        "colab": {
          "base_uri": "https://localhost:8080/",
          "height": 1000
        },
        "id": "7KW6Batk-6NH",
        "outputId": "11942be2-bddc-43d9-d8e9-b592b3b5f5d0"
      },
      "source": [
        "sinasc19['PESO'] = sinasc19['PESO'].astype('category').cat.codes\n",
        "\n",
        "sinasc_corr = sinasc19.corr()\n",
        "corr_values = sinasc_corr['PESO'].sort_values(ascending=False)\n",
        "corr_values = abs(corr_values).sort_values(ascending=False)\n",
        "\n",
        "print('Correlação das features numéricas com o resultado em ordem crescente')\n",
        "print(abs(corr_values).sort_values(ascending=False))\n",
        "\n",
        "corr4 = sinasc19.corr()\n",
        "plt.figure(figsize=(10, 10))\n",
        "ax = sns.heatmap(\n",
        "    corr4,\n",
        "    vmin=-1, vmax=1, center=0,\n",
        "    cmap=sns.diverging_palette(20, 250, n=200),\n",
        "    square=False,\n",
        "    linewidths=.5\n",
        ")\n",
        "ax.set_xticklabels(\n",
        "    ax.get_xticklabels(),\n",
        "    rotation=50,\n",
        "    horizontalalignment='right'\n",
        ");"
      ],
      "execution_count": 6,
      "outputs": [
        {
          "output_type": "stream",
          "name": "stdout",
          "text": [
            "Correlação das features numéricas com o resultado em ordem crescente\n",
            "PESO          1.000000\n",
            "SEMAGESTAC    0.557292\n",
            "GESTACAO      0.491645\n",
            "TPROBSON      0.306223\n",
            "GRAVIDEZ      0.220139\n",
            "SEXO          0.102392\n",
            "CONSULTAS     0.093714\n",
            "PARIDADE      0.081233\n",
            "QTDFILVIVO    0.048973\n",
            "KOTELCHUCK    0.042783\n",
            "QTDPARTCES    0.039668\n",
            "TPAPRESENT    0.038960\n",
            "QTDGESTANT    0.034521\n",
            "MESPRENAT     0.033756\n",
            "LOCNASC       0.029738\n",
            "CODMUNNATU    0.025987\n",
            "NATURALMAE    0.025974\n",
            "CODUFNATU     0.025974\n",
            "SERIESCMAE    0.024737\n",
            "CONSPRENAT    0.022569\n",
            "IDADEMAE      0.021956\n",
            "QTDFILMORT    0.019944\n",
            "QTDPARTNOR    0.017314\n",
            "STTRABPART    0.016541\n",
            "TPDOCRESP     0.015421\n",
            "CODESTAB      0.011005\n",
            "TPMETESTIM    0.010361\n",
            "PARTO         0.010081\n",
            "IDANOMAL      0.009568\n",
            "CONTADOR      0.009247\n",
            "IDADEPAI      0.008633\n",
            "CODMUNRES     0.008401\n",
            "RACACORMAE    0.008341\n",
            "RACACOR       0.008340\n",
            "ESCMAE        0.007794\n",
            "ESTCIVMAE     0.007324\n",
            "DTDECLARAC    0.004126\n",
            "CODOCUPMAE    0.003993\n",
            "TPFUNCRESP    0.003858\n",
            "HORANASC      0.003795\n",
            "NUMEROLOTE    0.003623\n",
            "DTNASC        0.003612\n",
            "ESCMAE2010    0.003519\n",
            "ESCMAEAGR1    0.003272\n",
            "APGAR1        0.003152\n",
            "DIFDATA       0.003108\n",
            "STCESPARTO    0.002962\n",
            "DTNASCMAE     0.002369\n",
            "DTRECEBIM     0.002320\n",
            "DTULTMENST    0.001576\n",
            "APGAR5        0.001373\n",
            "DTRECORIGA         NaN\n",
            "Name: PESO, dtype: float64\n"
          ]
        },
        {
          "output_type": "display_data",
          "data": {
            "image/png": "[encoded data removed]",
            "text/plain": [
              "<Figure size 720x720 with 2 Axes>"
            ]
          },
          "metadata": {
            "needs_background": "light"
          }
        }
      ]
    },
    {
      "cell_type": "code",
      "metadata": {
        "colab": {
          "base_uri": "https://localhost:8080/",
          "height": 103
        },
        "id": "GNWg_EvZ-7HO",
        "outputId": "27f082b7-c65f-4255-bc04-31322ed4de14"
      },
      "source": [
        "'''sinasc19 = sinasc19.drop(columns=['STTRABPART', 'QTDFILMORT',\n",
        "                                  'QTDPARTNOR', 'TPMETESTIM', 'TPDOCRESP', 'CODESTAB', 'PARTO' ], axis=1)'''\n",
        "\n",
        "\n",
        "sinasc19 = sinasc19.drop(columns=['IDANOMAL', 'CONTADOR', 'IDADEPAI', 'CODMUNRES','RACACORMAE', 'RACACOR',\n",
        "                                  'ESCMAE', 'ESTCIVMAE', 'DTDECLARAC', 'HORANASC',\n",
        "                                  'NUMEROLOTE', 'ESCMAE2010', 'DTNASC','APGAR1', 'ESCMAEAGR1',\n",
        "                                  'CODOCUPMAE', 'DIFDATA', 'STCESPARTO', 'TPFUNCRESP',\n",
        "                                  'DTNASCMAE', 'DTRECEBIM', 'APGAR5', 'DTULTMENST', 'DTRECORIGA'], axis=1)\n",
        "\n",
        "'''\n",
        "sinasc19 = sinasc19.drop(columns=['DTRECORIGA', 'HORANASC', 'DTNASCMAE', 'IDANOMAL', 'DTRECEBIM',\n",
        "                                  'STTRABPART', 'DTDECLARAC', 'DTULTMENST', 'DTNASC', 'QTDFILMORT',\n",
        "                                  'QTDPARTNOR', 'CODOCUPMAE', 'CONTADOR', 'TPMETESTIM', 'ESCMAEAGR1',\n",
        "                                  'ESTCIVMAE', 'IDADEPAI', 'STCESPARTO'], axis=1)\n",
        "\n",
        "sinasc19 = sinasc19.drop(columns=['QTDPARTNOR', 'QTDFILMORT', 'STTRABPART',\n",
        "                                  'TPDOCRESP', 'CODESTAB', 'TPMETESTIM', 'PARTO'], axis=1)\n",
        "\n",
        "sinasc19 = sinasc19.drop(columns=['KOTELCHUCK', 'QTDPARTCES', 'TPAPRESENT', 'QTDGESTANT',\n",
        "                                  'MESPRENAT', 'LOCNASC', 'CODMUNNATU','CODUFNATU',\n",
        "                                  'NATURALMAE','CONSPRENAT', 'IDADEMAE'], axis=1)\n",
        "\n",
        "sinasc19 = sinasc19.drop(columns=['LOCNASC', 'CODMUNNATU','CODUFNATU',\n",
        "                                  'NATURALMAE','CONSPRENAT', 'IDADEMAE'], axis=1)'''"
      ],
      "execution_count": 7,
      "outputs": [
        {
          "output_type": "execute_result",
          "data": {
            "application/vnd.google.colaboratory.intrinsic+json": {
              "type": "string"
            },
            "text/plain": [
              "\"\\nsinasc19 = sinasc19.drop(columns=['DTRECORIGA', 'HORANASC', 'DTNASCMAE', 'IDANOMAL', 'DTRECEBIM',\\n                                  'STTRABPART', 'DTDECLARAC', 'DTULTMENST', 'DTNASC', 'QTDFILMORT',\\n                                  'QTDPARTNOR', 'CODOCUPMAE', 'CONTADOR', 'TPMETESTIM', 'ESCMAEAGR1',\\n                                  'ESTCIVMAE', 'IDADEPAI', 'STCESPARTO'], axis=1)\\n\\nsinasc19 = sinasc19.drop(columns=['QTDPARTNOR', 'QTDFILMORT', 'STTRABPART',\\n                                  'TPDOCRESP', 'CODESTAB', 'TPMETESTIM', 'PARTO'], axis=1)\\n\\nsinasc19 = sinasc19.drop(columns=['KOTELCHUCK', 'QTDPARTCES', 'TPAPRESENT', 'QTDGESTANT',\\n                                  'MESPRENAT', 'LOCNASC', 'CODMUNNATU','CODUFNATU',\\n                                  'NATURALMAE','CONSPRENAT', 'IDADEMAE'], axis=1)\\n\\nsinasc19 = sinasc19.drop(columns=['LOCNASC', 'CODMUNNATU','CODUFNATU',\\n                                  'NATURALMAE','CONSPRENAT', 'IDADEMAE'], axis=1)\""
            ]
          },
          "metadata": {},
          "execution_count": 7
        }
      ]
    },
    {
      "cell_type": "code",
      "metadata": {
        "colab": {
          "base_uri": "https://localhost:8080/",
          "height": 458
        },
        "id": "sob9HHmL-zz_",
        "outputId": "5c52faa3-578e-47ad-b8a6-b83fe042c9e8"
      },
      "source": [
        "fig2, ax2 = plt.subplots(figsize=(12,6))\n",
        "fig2 = sns.boxplot(sinasc19.PESO).set_title('Boxplot')\n",
        "fig2.figure.savefig('boxplot_origin.png')"
      ],
      "execution_count": 8,
      "outputs": [
        {
          "output_type": "stream",
          "name": "stderr",
          "text": [
            "/usr/local/lib/python3.7/dist-packages/seaborn/_decorators.py:43: FutureWarning: Pass the following variable as a keyword arg: x. From version 0.12, the only valid positional argument will be `data`, and passing other arguments without an explicit keyword will result in an error or misinterpretation.\n",
            "  FutureWarning\n"
          ]
        },
        {
          "output_type": "display_data",
          "data": {
            "image/png": "[encoded data removed]",
            "text/plain": [
              "<Figure size 864x432 with 1 Axes>"
            ]
          },
          "metadata": {
            "needs_background": "light"
          }
        }
      ]
    },
    {
      "cell_type": "code",
      "metadata": {
        "colab": {
          "base_uri": "https://localhost:8080/",
          "height": 204
        },
        "id": "M8XqqnSP-BlH",
        "outputId": "f7dfa998-9f1a-4d44-bcfe-7b683fb14d08"
      },
      "source": [
        "def outliers(s):\n",
        "    iqr = (np.quantile(s, 0.65))-(np.quantile(s, 0.45))\n",
        "    upper_bound = np.quantile(s, 0.65)+(1.5*iqr)\n",
        "    lower_bound = np.quantile(s, 0.45)-(1.5*iqr)\n",
        "    f = []\n",
        "    for i in s:\n",
        "        if i > upper_bound:\n",
        "            f.append(i)\n",
        "        elif i < lower_bound:\n",
        "            f.append(i)\n",
        "    sums = len(f)\n",
        "    pros = len(f)/len(s)*100\n",
        "    d = {'IQR':iqr,\n",
        "         'Upper Bound':upper_bound,\n",
        "        'Lower Bound':lower_bound,\n",
        "        'Sum outliers': sums,'percentage outliers':pros}\n",
        "    d = pd.DataFrame(d.items(),columns = ['sub','values'])\n",
        "    return(d)\n",
        "    \n",
        "outliers(sinasc19.PESO)"
      ],
      "execution_count": 9,
      "outputs": [
        {
          "output_type": "execute_result",
          "data": {
            "text/html": [
              "<div>\n",
              "<style scoped>\n",
              "    .dataframe tbody tr th:only-of-type {\n",
              "        vertical-align: middle;\n",
              "    }\n",
              "\n",
              "    .dataframe tbody tr th {\n",
              "        vertical-align: top;\n",
              "    }\n",
              "\n",
              "    .dataframe thead th {\n",
              "        text-align: right;\n",
              "    }\n",
              "</style>\n",
              "<table border=\"1\" class=\"dataframe\">\n",
              "  <thead>\n",
              "    <tr style=\"text-align: right;\">\n",
              "      <th></th>\n",
              "      <th>sub</th>\n",
              "      <th>values</th>\n",
              "    </tr>\n",
              "  </thead>\n",
              "  <tbody>\n",
              "    <tr>\n",
              "      <th>0</th>\n",
              "      <td>IQR</td>\n",
              "      <td>191.000000</td>\n",
              "    </tr>\n",
              "    <tr>\n",
              "      <th>1</th>\n",
              "      <td>Upper Bound</td>\n",
              "      <td>2156.500000</td>\n",
              "    </tr>\n",
              "    <tr>\n",
              "      <th>2</th>\n",
              "      <td>Lower Bound</td>\n",
              "      <td>1392.500000</td>\n",
              "    </tr>\n",
              "    <tr>\n",
              "      <th>3</th>\n",
              "      <td>Sum outliers</td>\n",
              "      <td>67623.000000</td>\n",
              "    </tr>\n",
              "    <tr>\n",
              "      <th>4</th>\n",
              "      <td>percentage outliers</td>\n",
              "      <td>32.512777</td>\n",
              "    </tr>\n",
              "  </tbody>\n",
              "</table>\n",
              "</div>"
            ],
            "text/plain": [
              "                   sub        values\n",
              "0                  IQR    191.000000\n",
              "1          Upper Bound   2156.500000\n",
              "2          Lower Bound   1392.500000\n",
              "3         Sum outliers  67623.000000\n",
              "4  percentage outliers     32.512777"
            ]
          },
          "metadata": {},
          "execution_count": 9
        }
      ]
    },
    {
      "cell_type": "code",
      "metadata": {
        "colab": {
          "base_uri": "https://localhost:8080/",
          "height": 458
        },
        "id": "1DmPslAg9e58",
        "outputId": "1ef97513-c32e-4052-85fa-a488fe7db630"
      },
      "source": [
        "s = sinasc19['PESO']\n",
        "iqr = (np.quantile(s, 0.65))-(np.quantile(s, 0.45))\n",
        "upper_bound = np.quantile(s, 0.65)+(1.5*iqr)\n",
        "lower_bound = np.quantile(s, 0.45)-(1.5*iqr)\n",
        "\n",
        "#drop outliers\n",
        "sinasc19 = sinasc19[(sinasc19['PESO'] <= upper_bound)]\n",
        "sinasc19 = sinasc19[(sinasc19['PESO'] <= lower_bound)]\n",
        "\n",
        "'''# limiting outliers\n",
        "sinasc19['PESO'] = np.where(sinasc19['PESO'] > upper_bound, upper_bound,sinasc19['PESO']) #higher\n",
        "sinasc19['PESO'] = np.where(sinasc19['PESO'] < lower_bound, lower_bound,sinasc19['PESO']) #lower'''\n",
        "\n",
        "\n",
        "fig,ax = plt.subplots(figsize=(12,6))\n",
        "fig = sns.boxplot(sinasc19.PESO).set_title('Boxplot')\n",
        "fig.figure.savefig('AP_drop.png')"
      ],
      "execution_count": 10,
      "outputs": [
        {
          "output_type": "stream",
          "name": "stderr",
          "text": [
            "/usr/local/lib/python3.7/dist-packages/seaborn/_decorators.py:43: FutureWarning: Pass the following variable as a keyword arg: x. From version 0.12, the only valid positional argument will be `data`, and passing other arguments without an explicit keyword will result in an error or misinterpretation.\n",
            "  FutureWarning\n"
          ]
        },
        {
          "output_type": "display_data",
          "data": {
            "image/png": "[encoded data removed]",
            "text/plain": [
              "<Figure size 864x432 with 1 Axes>"
            ]
          },
          "metadata": {
            "needs_background": "light"
          }
        }
      ]
    },
    {
      "cell_type": "code",
      "metadata": {
        "colab": {
          "base_uri": "https://localhost:8080/"
        },
        "id": "HY4_XFMT9ts6",
        "outputId": "dd9e93b7-a4a7-437e-df31-0cb81eca067c"
      },
      "source": [
        "sinasc19.shape"
      ],
      "execution_count": 11,
      "outputs": [
        {
          "output_type": "execute_result",
          "data": {
            "text/plain": [
              "(41304, 30)"
            ]
          },
          "metadata": {},
          "execution_count": 11
        }
      ]
    },
    {
      "cell_type": "code",
      "metadata": {
        "colab": {
          "base_uri": "https://localhost:8080/",
          "height": 1000
        },
        "id": "w47ameiy92UJ",
        "outputId": "11b112f8-d39c-4a85-804b-aaa599cf96b5"
      },
      "source": [
        "cat_null = sinasc19.isnull().sum()\n",
        "#print(cat_null)\n",
        "cat_null = cat_null/len(sinasc19)*100\n",
        "cat_null = cat_null[cat_null>0]\n",
        "cat_null.sort_values(inplace=True, ascending=False)\n",
        "#print(cat_null)\n",
        "\n",
        "null_cat=sinasc19.isna().sum()/len(sinasc19)*100\n",
        "plt.bar(range(len(null_cat)),null_cat)\n",
        "plt.xlabel('Features')\n",
        "plt.ylabel('% of NAN values')\n",
        "plt.plot([0, 25], [40, 40], 'r--', lw=1)\n",
        "plt.xticks(list(range(len(sinasc19.columns))),list(sinasc19.columns.values),rotation='vertical')"
      ],
      "execution_count": 12,
      "outputs": [
        {
          "output_type": "execute_result",
          "data": {
            "text/plain": [
              "([<matplotlib.axis.XTick at 0x7f2311e90610>,\n",
              "  <matplotlib.axis.XTick at 0x7f2311e900d0>,\n",
              "  <matplotlib.axis.XTick at 0x7f2311e90050>,\n",
              "  <matplotlib.axis.XTick at 0x7f2311e20290>,\n",
              "  <matplotlib.axis.XTick at 0x7f2311e20310>,\n",
              "  <matplotlib.axis.XTick at 0x7f2311e20850>,\n",
              "  <matplotlib.axis.XTick at 0x7f2311e27250>,\n",
              "  <matplotlib.axis.XTick at 0x7f2311e27350>,\n",
              "  <matplotlib.axis.XTick at 0x7f2311e27890>,\n",
              "  <matplotlib.axis.XTick at 0x7f2311e27b50>,\n",
              "  <matplotlib.axis.XTick at 0x7f2311e20b10>,\n",
              "  <matplotlib.axis.XTick at 0x7f2311d70390>,\n",
              "  <matplotlib.axis.XTick at 0x7f2311d70410>,\n",
              "  <matplotlib.axis.XTick at 0x7f2311d709d0>,\n",
              "  <matplotlib.axis.XTick at 0x7f2311d78390>,\n",
              "  <matplotlib.axis.XTick at 0x7f2311d78490>,\n",
              "  <matplotlib.axis.XTick at 0x7f2311d789d0>,\n",
              "  <matplotlib.axis.XTick at 0x7f2311d80390>,\n",
              "  <matplotlib.axis.XTick at 0x7f2311d78850>,\n",
              "  <matplotlib.axis.XTick at 0x7f2311d703d0>,\n",
              "  <matplotlib.axis.XTick at 0x7f2311d80690>,\n",
              "  <matplotlib.axis.XTick at 0x7f2311d80650>,\n",
              "  <matplotlib.axis.XTick at 0x7f2311d89290>,\n",
              "  <matplotlib.axis.XTick at 0x7f2311d89310>,\n",
              "  <matplotlib.axis.XTick at 0x7f2311d89850>,\n",
              "  <matplotlib.axis.XTick at 0x7f2311d91290>,\n",
              "  <matplotlib.axis.XTick at 0x7f2311d91310>,\n",
              "  <matplotlib.axis.XTick at 0x7f2311d91850>,\n",
              "  <matplotlib.axis.XTick at 0x7f2311d91790>,\n",
              "  <matplotlib.axis.XTick at 0x7f2311d89c10>],\n",
              " [Text(0, 0, 'CODESTAB'),\n",
              "  Text(0, 0, 'LOCNASC'),\n",
              "  Text(0, 0, 'IDADEMAE'),\n",
              "  Text(0, 0, 'QTDFILVIVO'),\n",
              "  Text(0, 0, 'QTDFILMORT'),\n",
              "  Text(0, 0, 'GESTACAO'),\n",
              "  Text(0, 0, 'GRAVIDEZ'),\n",
              "  Text(0, 0, 'PARTO'),\n",
              "  Text(0, 0, 'CONSULTAS'),\n",
              "  Text(0, 0, 'SEXO'),\n",
              "  Text(0, 0, 'PESO'),\n",
              "  Text(0, 0, 'CODANOMAL'),\n",
              "  Text(0, 0, 'VERSAOSIST'),\n",
              "  Text(0, 0, 'NATURALMAE'),\n",
              "  Text(0, 0, 'CODMUNNATU'),\n",
              "  Text(0, 0, 'CODUFNATU'),\n",
              "  Text(0, 0, 'SERIESCMAE'),\n",
              "  Text(0, 0, 'QTDGESTANT'),\n",
              "  Text(0, 0, 'QTDPARTNOR'),\n",
              "  Text(0, 0, 'QTDPARTCES'),\n",
              "  Text(0, 0, 'SEMAGESTAC'),\n",
              "  Text(0, 0, 'TPMETESTIM'),\n",
              "  Text(0, 0, 'CONSPRENAT'),\n",
              "  Text(0, 0, 'MESPRENAT'),\n",
              "  Text(0, 0, 'TPAPRESENT'),\n",
              "  Text(0, 0, 'STTRABPART'),\n",
              "  Text(0, 0, 'TPDOCRESP'),\n",
              "  Text(0, 0, 'TPROBSON'),\n",
              "  Text(0, 0, 'PARIDADE'),\n",
              "  Text(0, 0, 'KOTELCHUCK')])"
            ]
          },
          "metadata": {},
          "execution_count": 12
        },
        {
          "output_type": "display_data",
          "data": {
            "image/png": "[encoded data removed]",
            "text/plain": [
              "<Figure size 432x288 with 1 Axes>"
            ]
          },
          "metadata": {
            "needs_background": "light"
          }
        }
      ]
    },
    {
      "cell_type": "code",
      "metadata": {
        "colab": {
          "base_uri": "https://localhost:8080/"
        },
        "id": "fY6FvYk8-SLV",
        "outputId": "cccd0211-408f-4465-8176-2177752ee340"
      },
      "source": [
        "for col in sinasc19.columns.values:\n",
        "    if (pd.isna(sinasc19[col]).sum()) > 0: \n",
        "        if pd.isna(sinasc19[col]).sum() > (40/100 * len(sinasc19)): \n",
        "            print(col, 'removido') \n",
        "            sinasc19 = sinasc19.drop([col], axis=1) \n",
        "        elif (sinasc19[col].dtype == 'object'):\n",
        "            sinasc19[col] = sinasc19[col].fillna(sinasc19[col].mode()[0])        \n",
        "        else: sinasc19[col] = sinasc19[col].fillna(sinasc19[col].median())"
      ],
      "execution_count": 13,
      "outputs": [
        {
          "output_type": "stream",
          "name": "stdout",
          "text": [
            "CODANOMAL removido\n",
            "SERIESCMAE removido\n"
          ]
        }
      ]
    },
    {
      "cell_type": "code",
      "metadata": {
        "colab": {
          "base_uri": "https://localhost:8080/"
        },
        "id": "pA_iY_X7XN15",
        "outputId": "d7b238ad-24cb-41f4-fbe3-23c7a5a8a0e8"
      },
      "source": [
        "sinasc19.shape"
      ],
      "execution_count": 14,
      "outputs": [
        {
          "output_type": "execute_result",
          "data": {
            "text/plain": [
              "(41304, 28)"
            ]
          },
          "metadata": {},
          "execution_count": 14
        }
      ]
    },
    {
      "cell_type": "code",
      "metadata": {
        "id": "Nsdz5IDE-VI1"
      },
      "source": [
        "sinasc19 = pd.get_dummies(sinasc19)"
      ],
      "execution_count": 15,
      "outputs": []
    },
    {
      "cell_type": "code",
      "metadata": {
        "id": "MzHpymZ--Y9z"
      },
      "source": [
        "# recupera os valores (X), e as classes (Y)\n",
        "X = sinasc19.drop('PESO', axis=1)\n",
        "Y = sinasc19['PESO']"
      ],
      "execution_count": 16,
      "outputs": []
    },
    {
      "cell_type": "code",
      "metadata": {
        "id": "Brlw5wP8-b1n"
      },
      "source": [
        "# normalização dos dados\n",
        "min_max_scaler = StandardScaler()\n",
        "X = min_max_scaler.fit_transform(X)"
      ],
      "execution_count": 17,
      "outputs": []
    },
    {
      "cell_type": "code",
      "metadata": {
        "id": "zAx3LVzY-gPU"
      },
      "source": [
        "Xtrain, Xtest, y_train, y_test = train_test_split(X, Y, test_size=0.2, random_state=26)"
      ],
      "execution_count": 18,
      "outputs": []
    },
    {
      "cell_type": "code",
      "metadata": {
        "id": "1ZNN97mHSR1j"
      },
      "source": [
        "pca_train = PCA(n_components=29).fit(Xtrain)\n",
        "X_trar = pca_train.transform(Xtrain)\n",
        "X_train = pd.DataFrame(X_trar)\n",
        "\n",
        "X_tear = pca_train.transform(Xtest)\n",
        "X_test = pd.DataFrame(X_tear)"
      ],
      "execution_count": 19,
      "outputs": []
    },
    {
      "cell_type": "code",
      "metadata": {
        "id": "m22c5eB0-iYt"
      },
      "source": [
        "result = {}"
      ],
      "execution_count": 20,
      "outputs": []
    },
    {
      "cell_type": "markdown",
      "metadata": {
        "id": "7Wm9GKEU7Rlc"
      },
      "source": [
        "### KNN Regressor"
      ]
    },
    {
      "cell_type": "code",
      "metadata": {
        "colab": {
          "base_uri": "https://localhost:8080/"
        },
        "id": "HgadJd9L14-W",
        "outputId": "3926c6fa-d2a9-48f0-a5df-07e3f062a7ee"
      },
      "source": [
        "m1 = KNeighborsRegressor(n_neighbors=16,metric='euclidean')\n",
        "m1.fit(X_train,y_train)\n",
        "\n",
        "y_pred = m1.predict(X_test)\n",
        "\n",
        "r2 = r2_score(y_test,y_pred)\n",
        "mae = mean_absolute_error(y_test,y_pred)\n",
        "mse = mean_squared_error(y_test,y_pred, squared=True)\n",
        "rmse = mean_squared_error(y_test,y_pred, squared=False)\n",
        "\n",
        "result['KNN'] = {'R2':r2, 'MAE':mae, 'MSE':mse, 'RMSE':rmse}\n",
        "\n",
        "print('R2  :',r2)\n",
        "print('MAE :',mae)\n",
        "print('MSE :',mse)\n",
        "print('RMSE:',rmse)"
      ],
      "execution_count": 21,
      "outputs": [
        {
          "output_type": "stream",
          "name": "stdout",
          "text": [
            "R2  : 0.5102196192679993\n",
            "MAE : 154.84275511439293\n",
            "MSE : 43916.648744855345\n",
            "RMSE: 209.56299469337458\n"
          ]
        }
      ]
    },
    {
      "cell_type": "code",
      "metadata": {
        "colab": {
          "base_uri": "https://localhost:8080/"
        },
        "id": "nkpChTbE2Az3",
        "outputId": "5050ab94-02d2-4603-fe44-ba27d8b2807e"
      },
      "source": [
        "# Linear Regression\n",
        "\n",
        "m2 = LinearRegression()\n",
        "m2.fit(X_train, y_train)\n",
        "\n",
        "y_pred = m2.predict(X_test)\n",
        "\n",
        "r2 = r2_score(y_test,y_pred)\n",
        "mae = mean_absolute_error(y_test,y_pred)\n",
        "mse = mean_squared_error(y_test,y_pred, squared=True)\n",
        "rmse = mean_squared_error(y_test,y_pred, squared=False)\n",
        "\n",
        "result['Linear Regression'] = {'R2':r2, 'MAE':mae, 'MSE':mse, 'RMSE':rmse}\n",
        "\n",
        "print('R2  :',r2)\n",
        "print('MAE :',mae)\n",
        "print('MSE :',mse)\n",
        "print('RMSE:',rmse)"
      ],
      "execution_count": 22,
      "outputs": [
        {
          "output_type": "stream",
          "name": "stdout",
          "text": [
            "R2  : 0.5336217069983065\n",
            "MAE : 150.09143213161562\n",
            "MSE : 41818.2770926218\n",
            "RMSE: 204.49517620868664\n"
          ]
        }
      ]
    },
    {
      "cell_type": "code",
      "metadata": {
        "colab": {
          "base_uri": "https://localhost:8080/"
        },
        "id": "gieTGWCH2F6S",
        "outputId": "cdbd1035-c493-49e1-9e72-7771b0575c60"
      },
      "source": [
        "# SVM\n",
        "\n",
        "m3 = SVR()\n",
        "m3.fit(X_train, y_train)\n",
        "\n",
        "y_pred = m3.predict(X_test)\n",
        "\n",
        "r2 = r2_score(y_test,y_pred)\n",
        "mae = mean_absolute_error(y_test,y_pred)\n",
        "mse = mean_squared_error(y_test,y_pred, squared=True)\n",
        "rmse = mean_squared_error(y_test,y_pred, squared=False)\n",
        "\n",
        "result['SVM'] = {'R2':r2, 'MAE':mae, 'MSE':mse, 'RMSE':rmse}\n",
        "\n",
        "print('R2  :',r2)\n",
        "print('MAE :',mae)\n",
        "print('MSE :',mse)\n",
        "print('RMSE:',rmse)"
      ],
      "execution_count": 23,
      "outputs": [
        {
          "output_type": "stream",
          "name": "stdout",
          "text": [
            "R2  : 0.4339270393808148\n",
            "MAE : 162.71682274203494\n",
            "MSE : 50757.49938843725\n",
            "RMSE: 225.29425067772425\n"
          ]
        }
      ]
    },
    {
      "cell_type": "code",
      "metadata": {
        "colab": {
          "base_uri": "https://localhost:8080/"
        },
        "id": "pLXn4Vqa2NuM",
        "outputId": "dc4071a6-37c8-4214-9948-17e68070e37e"
      },
      "source": [
        "# Decision Tree\n",
        "\n",
        "m4 = DecisionTreeRegressor(random_state=60)\n",
        "m4.fit(X_train, y_train)\n",
        "\n",
        "y_pred = m4.predict(X_test)\n",
        "\n",
        "r2 = r2_score(y_test,y_pred)\n",
        "mae = mean_absolute_error(y_test,y_pred)\n",
        "mse = mean_squared_error(y_test,y_pred, squared=True)\n",
        "rmse = mean_squared_error(y_test,y_pred, squared=False)\n",
        "\n",
        "result['Decision Tree'] = {'R2':r2, 'MAE':mae, 'MSE':mse, 'RMSE':rmse}\n",
        "\n",
        "print('R2  :',r2)\n",
        "print('MAE :',mae)\n",
        "print('MSE :',mse)\n",
        "print('RMSE:',rmse)"
      ],
      "execution_count": 24,
      "outputs": [
        {
          "output_type": "stream",
          "name": "stdout",
          "text": [
            "R2  : 0.1512653520601357\n",
            "MAE : 195.7637896945487\n",
            "MSE : 76102.64289365022\n",
            "RMSE: 275.86707468208346\n"
          ]
        }
      ]
    },
    {
      "cell_type": "code",
      "metadata": {
        "colab": {
          "base_uri": "https://localhost:8080/"
        },
        "id": "WSGNsbi12J4u",
        "outputId": "d631d275-f2b6-44a7-c7b6-444758798d0a"
      },
      "source": [
        "# Random Forest\n",
        "\n",
        "m5 = RandomForestRegressor(n_estimators=200, random_state=26)\n",
        "m5.fit(X_train, y_train)\n",
        "\n",
        "y_pred = m5.predict(X_test)\n",
        "\n",
        "r2 = r2_score(y_test,y_pred)\n",
        "mae = mean_absolute_error(y_test,y_pred)\n",
        "mse = mean_squared_error(y_test,y_pred, squared=True)\n",
        "rmse = mean_squared_error(y_test,y_pred, squared=False)\n",
        "\n",
        "result['Random Forest'] = {'R2':r2, 'MAE':mae, 'MSE':mse, 'RMSE':rmse}\n",
        "\n",
        "print('R2  :',r2)\n",
        "print('MAE :',mae)\n",
        "print('MSE :',mse)\n",
        "print('RMSE:',rmse)"
      ],
      "execution_count": 25,
      "outputs": [
        {
          "output_type": "stream",
          "name": "stdout",
          "text": [
            "R2  : 0.5666926798812898\n",
            "MAE : 144.6399280825094\n",
            "MSE : 38852.93516205695\n",
            "RMSE: 197.1114790215348\n"
          ]
        }
      ]
    },
    {
      "cell_type": "markdown",
      "metadata": {
        "id": "SCugOjrgtMgz"
      },
      "source": [
        "## Resultados"
      ]
    },
    {
      "cell_type": "code",
      "metadata": {
        "id": "r52KhaMwqlOL",
        "colab": {
          "base_uri": "https://localhost:8080/",
          "height": 204
        },
        "outputId": "760fbafe-efe6-4847-f980-aacde73342c4"
      },
      "source": [
        "# Ranking final do percentual dos modelos aplicados\n",
        "\n",
        "cm = sns.color_palette('Blues_r', as_cmap=True)\n",
        "pd.DataFrame(result).T.style.background_gradient(subset=['R2'], cmap=cm).highlight_max(subset=['R2'], axis=0)"
      ],
      "execution_count": 26,
      "outputs": [
        {
          "output_type": "execute_result",
          "data": {
            "text/html": [
              "<style  type=\"text/css\" >\n",
              "#T_99c55c1c_3802_11ec_be96_0242ac1c0002row0_col0{\n",
              "            background-color:  #dceaf6;\n",
              "            color:  #000000;\n",
              "        }#T_99c55c1c_3802_11ec_be96_0242ac1c0002row1_col0{\n",
              "            background-color:  #e7f1fa;\n",
              "            color:  #000000;\n",
              "        }#T_99c55c1c_3802_11ec_be96_0242ac1c0002row2_col0{\n",
              "            background-color:  #b0d2e7;\n",
              "            color:  #000000;\n",
              "        }#T_99c55c1c_3802_11ec_be96_0242ac1c0002row3_col0{\n",
              "            background-color:  #08306b;\n",
              "            color:  #f1f1f1;\n",
              "        }#T_99c55c1c_3802_11ec_be96_0242ac1c0002row4_col0{\n",
              "            background-color:  #f7fbff;\n",
              "            color:  #000000;\n",
              "            background-color:  yellow;\n",
              "        }</style><table id=\"T_99c55c1c_3802_11ec_be96_0242ac1c0002\" class=\"dataframe\"><thead>    <tr>        <th class=\"blank level0\" ></th>        <th class=\"col_heading level0 col0\" >R2</th>        <th class=\"col_heading level0 col1\" >MAE</th>        <th class=\"col_heading level0 col2\" >MSE</th>        <th class=\"col_heading level0 col3\" >RMSE</th>    </tr></thead><tbody>\n",
              "                <tr>\n",
              "                        <th id=\"T_99c55c1c_3802_11ec_be96_0242ac1c0002level0_row0\" class=\"row_heading level0 row0\" >KNN</th>\n",
              "                        <td id=\"T_99c55c1c_3802_11ec_be96_0242ac1c0002row0_col0\" class=\"data row0 col0\" >0.510220</td>\n",
              "                        <td id=\"T_99c55c1c_3802_11ec_be96_0242ac1c0002row0_col1\" class=\"data row0 col1\" >154.842755</td>\n",
              "                        <td id=\"T_99c55c1c_3802_11ec_be96_0242ac1c0002row0_col2\" class=\"data row0 col2\" >43916.648745</td>\n",
              "                        <td id=\"T_99c55c1c_3802_11ec_be96_0242ac1c0002row0_col3\" class=\"data row0 col3\" >209.562995</td>\n",
              "            </tr>\n",
              "            <tr>\n",
              "                        <th id=\"T_99c55c1c_3802_11ec_be96_0242ac1c0002level0_row1\" class=\"row_heading level0 row1\" >Linear Regression</th>\n",
              "                        <td id=\"T_99c55c1c_3802_11ec_be96_0242ac1c0002row1_col0\" class=\"data row1 col0\" >0.533622</td>\n",
              "                        <td id=\"T_99c55c1c_3802_11ec_be96_0242ac1c0002row1_col1\" class=\"data row1 col1\" >150.091432</td>\n",
              "                        <td id=\"T_99c55c1c_3802_11ec_be96_0242ac1c0002row1_col2\" class=\"data row1 col2\" >41818.277093</td>\n",
              "                        <td id=\"T_99c55c1c_3802_11ec_be96_0242ac1c0002row1_col3\" class=\"data row1 col3\" >204.495176</td>\n",
              "            </tr>\n",
              "            <tr>\n",
              "                        <th id=\"T_99c55c1c_3802_11ec_be96_0242ac1c0002level0_row2\" class=\"row_heading level0 row2\" >SVM</th>\n",
              "                        <td id=\"T_99c55c1c_3802_11ec_be96_0242ac1c0002row2_col0\" class=\"data row2 col0\" >0.433927</td>\n",
              "                        <td id=\"T_99c55c1c_3802_11ec_be96_0242ac1c0002row2_col1\" class=\"data row2 col1\" >162.716823</td>\n",
              "                        <td id=\"T_99c55c1c_3802_11ec_be96_0242ac1c0002row2_col2\" class=\"data row2 col2\" >50757.499388</td>\n",
              "                        <td id=\"T_99c55c1c_3802_11ec_be96_0242ac1c0002row2_col3\" class=\"data row2 col3\" >225.294251</td>\n",
              "            </tr>\n",
              "            <tr>\n",
              "                        <th id=\"T_99c55c1c_3802_11ec_be96_0242ac1c0002level0_row3\" class=\"row_heading level0 row3\" >Decision Tree</th>\n",
              "                        <td id=\"T_99c55c1c_3802_11ec_be96_0242ac1c0002row3_col0\" class=\"data row3 col0\" >0.151265</td>\n",
              "                        <td id=\"T_99c55c1c_3802_11ec_be96_0242ac1c0002row3_col1\" class=\"data row3 col1\" >195.763790</td>\n",
              "                        <td id=\"T_99c55c1c_3802_11ec_be96_0242ac1c0002row3_col2\" class=\"data row3 col2\" >76102.642894</td>\n",
              "                        <td id=\"T_99c55c1c_3802_11ec_be96_0242ac1c0002row3_col3\" class=\"data row3 col3\" >275.867075</td>\n",
              "            </tr>\n",
              "            <tr>\n",
              "                        <th id=\"T_99c55c1c_3802_11ec_be96_0242ac1c0002level0_row4\" class=\"row_heading level0 row4\" >Random Forest</th>\n",
              "                        <td id=\"T_99c55c1c_3802_11ec_be96_0242ac1c0002row4_col0\" class=\"data row4 col0\" >0.566693</td>\n",
              "                        <td id=\"T_99c55c1c_3802_11ec_be96_0242ac1c0002row4_col1\" class=\"data row4 col1\" >144.639928</td>\n",
              "                        <td id=\"T_99c55c1c_3802_11ec_be96_0242ac1c0002row4_col2\" class=\"data row4 col2\" >38852.935162</td>\n",
              "                        <td id=\"T_99c55c1c_3802_11ec_be96_0242ac1c0002row4_col3\" class=\"data row4 col3\" >197.111479</td>\n",
              "            </tr>\n",
              "    </tbody></table>"
            ],
            "text/plain": [
              "<pandas.io.formats.style.Styler at 0x7f231bce2950>"
            ]
          },
          "metadata": {},
          "execution_count": 26
        }
      ]
    }
  ]
}