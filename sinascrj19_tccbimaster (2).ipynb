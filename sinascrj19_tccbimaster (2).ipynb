{
  "nbformat": 4,
  "nbformat_minor": 0,
  "metadata": {
    "colab": {
      "name": "sinascrj19_tccbimaster.ipynb",
      "provenance": [],
      "collapsed_sections": [
        "SCugOjrgtMgz"
      ]
    },
    "kernelspec": {
      "display_name": "Python 3",
      "name": "python3"
    },
    "language_info": {
      "name": "python"
    }
  },
  "cells": [
    {
      "cell_type": "markdown",
      "metadata": {
        "id": "Xc0eGE4Vsed6"
      },
      "source": [
        "# Análise Preditiva SINASC 2019 - Modelo para previsão do peso de recém-nascidos"
      ]
    },
    {
      "cell_type": "markdown",
      "metadata": {
        "id": "6LIz8vvquhkK"
      },
      "source": [
        "## Importando as Bibliotecas"
      ]
    },
    {
      "cell_type": "code",
      "metadata": {
        "id": "X1FDDFYU1_qE"
      },
      "source": [
        "import numpy as np # linear algebra\n",
        "import pandas as pd # data processing / manipulation\n",
        "\n",
        "# Machine Learning Models\n",
        "from sklearn.model_selection import train_test_split\n",
        "from sklearn import linear_model\n",
        "from sklearn.linear_model import LogisticRegression\n",
        "from sklearn.ensemble import RandomForestClassifier\n",
        "from sklearn.linear_model import Perceptron\n",
        "from sklearn.linear_model import SGDClassifier\n",
        "from sklearn.tree import DecisionTreeClassifier\n",
        "from sklearn.neighbors import KNeighborsClassifier\n",
        "from sklearn.svm import SVC, LinearSVC\n",
        "from sklearn.naive_bayes import GaussianNB\n",
        "\n",
        "# Dimensionality reduction\n",
        "from sklearn.decomposition import PCA\n",
        "from sklearn.preprocessing import StandardScaler\n",
        "from sklearn.decomposition import FactorAnalysis\n",
        "from sklearn import datasets\n",
        "\n",
        "# Data Visualization\n",
        "import seaborn as sns\n",
        "%matplotlib inline\n",
        "from matplotlib import pyplot as plt\n",
        "from matplotlib import style"
      ],
      "execution_count": 24,
      "outputs": []
    },
    {
      "cell_type": "code",
      "metadata": {
        "colab": {
          "base_uri": "https://localhost:8080/"
        },
        "id": "M0GKGmxS3j9v",
        "outputId": "8810933a-6ac9-4d32-bc43-1af106ccd97d"
      },
      "source": [
        "from google.colab import drive\n",
        "drive.mount('/content/drive')"
      ],
      "execution_count": 25,
      "outputs": [
        {
          "output_type": "stream",
          "name": "stdout",
          "text": [
            "Drive already mounted at /content/drive; to attempt to forcibly remount, call drive.mount(\"/content/drive\", force_remount=True).\n"
          ]
        }
      ]
    },
    {
      "cell_type": "code",
      "metadata": {
        "colab": {
          "base_uri": "https://localhost:8080/"
        },
        "id": "V-BxddYsKTEL",
        "outputId": "8533b386-4d2a-4c46-a817-b26f55e72736"
      },
      "source": [
        "import os\n",
        "workdir_path = '/content/drive/MyDrive/datasets'\n",
        "os.chdir(workdir_path)\n",
        "!ls"
      ],
      "execution_count": 26,
      "outputs": [
        {
          "output_type": "stream",
          "name": "stdout",
          "text": [
            "AP_cap.png  AP_drop.png  boxplot_origin.png  sinascrj19.csv\n"
          ]
        }
      ]
    },
    {
      "cell_type": "markdown",
      "metadata": {
        "id": "vTMZ41pl5CM8"
      },
      "source": [
        "## Análise Exploratória"
      ]
    },
    {
      "cell_type": "markdown",
      "metadata": {
        "id": "fo0OY66r6vyo"
      },
      "source": [
        "Os códigos abaixo foram utilizados para a apresentação de características do conjunto de dados utilizado no estudo. Possibilitando a visualização da dimensionalidade, o número de casos, o conjunto de variáveis, sua denominação, tipo e estados de atributos, dentre outras características.\n",
        "\n",
        "+ Parte estatistica"
      ]
    },
    {
      "cell_type": "code",
      "metadata": {
        "colab": {
          "base_uri": "https://localhost:8080/",
          "height": 436
        },
        "id": "HomluUCT3CMb",
        "outputId": "a9390550-2523-4123-c3df-2e9a54899075"
      },
      "source": [
        "sinasc19 = pd.read_csv('sinascrj19.csv')\n",
        "print(sinasc19.shape)\n",
        "sinasc19.head(10).T"
      ],
      "execution_count": 27,
      "outputs": [
        {
          "output_type": "stream",
          "name": "stdout",
          "text": [
            "(207989, 61)\n"
          ]
        },
        {
          "output_type": "execute_result",
          "data": {
            "text/html": [
              "<div>\n",
              "<style scoped>\n",
              "    .dataframe tbody tr th:only-of-type {\n",
              "        vertical-align: middle;\n",
              "    }\n",
              "\n",
              "    .dataframe tbody tr th {\n",
              "        vertical-align: top;\n",
              "    }\n",
              "\n",
              "    .dataframe thead th {\n",
              "        text-align: right;\n",
              "    }\n",
              "</style>\n",
              "<table border=\"1\" class=\"dataframe\">\n",
              "  <thead>\n",
              "    <tr style=\"text-align: right;\">\n",
              "      <th></th>\n",
              "      <th>0</th>\n",
              "      <th>1</th>\n",
              "      <th>2</th>\n",
              "      <th>3</th>\n",
              "      <th>4</th>\n",
              "      <th>5</th>\n",
              "      <th>6</th>\n",
              "      <th>7</th>\n",
              "      <th>8</th>\n",
              "      <th>9</th>\n",
              "    </tr>\n",
              "  </thead>\n",
              "  <tbody>\n",
              "    <tr>\n",
              "      <th>ORIGEM</th>\n",
              "      <td>1</td>\n",
              "      <td>1</td>\n",
              "      <td>1</td>\n",
              "      <td>1</td>\n",
              "      <td>1</td>\n",
              "      <td>1</td>\n",
              "      <td>1</td>\n",
              "      <td>1</td>\n",
              "      <td>1</td>\n",
              "      <td>1</td>\n",
              "    </tr>\n",
              "    <tr>\n",
              "      <th>CODESTAB</th>\n",
              "      <td>2.36515e+06</td>\n",
              "      <td>2.72706e+06</td>\n",
              "      <td>2.56134e+06</td>\n",
              "      <td>2.47358e+06</td>\n",
              "      <td>2.65403e+06</td>\n",
              "      <td>2.70753e+06</td>\n",
              "      <td>2.33681e+06</td>\n",
              "      <td>2.75771e+06</td>\n",
              "      <td>2.70304e+06</td>\n",
              "      <td>2.34488e+06</td>\n",
              "    </tr>\n",
              "    <tr>\n",
              "      <th>CODMUNNASC</th>\n",
              "      <td>220390</td>\n",
              "      <td>221100</td>\n",
              "      <td>230500</td>\n",
              "      <td>240710</td>\n",
              "      <td>240810</td>\n",
              "      <td>250750</td>\n",
              "      <td>250970</td>\n",
              "      <td>251140</td>\n",
              "      <td>260280</td>\n",
              "      <td>260960</td>\n",
              "    </tr>\n",
              "    <tr>\n",
              "      <th>LOCNASC</th>\n",
              "      <td>1</td>\n",
              "      <td>1</td>\n",
              "      <td>1</td>\n",
              "      <td>1</td>\n",
              "      <td>1</td>\n",
              "      <td>1</td>\n",
              "      <td>1</td>\n",
              "      <td>1</td>\n",
              "      <td>1</td>\n",
              "      <td>1</td>\n",
              "    </tr>\n",
              "    <tr>\n",
              "      <th>IDADEMAE</th>\n",
              "      <td>26</td>\n",
              "      <td>29</td>\n",
              "      <td>27</td>\n",
              "      <td>18</td>\n",
              "      <td>30</td>\n",
              "      <td>25</td>\n",
              "      <td>32</td>\n",
              "      <td>20</td>\n",
              "      <td>32</td>\n",
              "      <td>26</td>\n",
              "    </tr>\n",
              "    <tr>\n",
              "      <th>...</th>\n",
              "      <td>...</td>\n",
              "      <td>...</td>\n",
              "      <td>...</td>\n",
              "      <td>...</td>\n",
              "      <td>...</td>\n",
              "      <td>...</td>\n",
              "      <td>...</td>\n",
              "      <td>...</td>\n",
              "      <td>...</td>\n",
              "      <td>...</td>\n",
              "    </tr>\n",
              "    <tr>\n",
              "      <th>CODPAISRES</th>\n",
              "      <td>1</td>\n",
              "      <td>1</td>\n",
              "      <td>1</td>\n",
              "      <td>1</td>\n",
              "      <td>1</td>\n",
              "      <td>1</td>\n",
              "      <td>1</td>\n",
              "      <td>1</td>\n",
              "      <td>1</td>\n",
              "      <td>1</td>\n",
              "    </tr>\n",
              "    <tr>\n",
              "      <th>TPROBSON</th>\n",
              "      <td>3</td>\n",
              "      <td>10</td>\n",
              "      <td>7</td>\n",
              "      <td>2</td>\n",
              "      <td>2</td>\n",
              "      <td>2</td>\n",
              "      <td>3</td>\n",
              "      <td>3</td>\n",
              "      <td>10</td>\n",
              "      <td>5</td>\n",
              "    </tr>\n",
              "    <tr>\n",
              "      <th>PARIDADE</th>\n",
              "      <td>1</td>\n",
              "      <td>0</td>\n",
              "      <td>1</td>\n",
              "      <td>0</td>\n",
              "      <td>0</td>\n",
              "      <td>0</td>\n",
              "      <td>1</td>\n",
              "      <td>1</td>\n",
              "      <td>1</td>\n",
              "      <td>1</td>\n",
              "    </tr>\n",
              "    <tr>\n",
              "      <th>KOTELCHUCK</th>\n",
              "      <td>5</td>\n",
              "      <td>5</td>\n",
              "      <td>5</td>\n",
              "      <td>5</td>\n",
              "      <td>5</td>\n",
              "      <td>5</td>\n",
              "      <td>3</td>\n",
              "      <td>5</td>\n",
              "      <td>2</td>\n",
              "      <td>2</td>\n",
              "    </tr>\n",
              "    <tr>\n",
              "      <th>CONTADOR</th>\n",
              "      <td>215113</td>\n",
              "      <td>232260</td>\n",
              "      <td>275403</td>\n",
              "      <td>306210</td>\n",
              "      <td>312841</td>\n",
              "      <td>346058</td>\n",
              "      <td>349030</td>\n",
              "      <td>351639</td>\n",
              "      <td>361929</td>\n",
              "      <td>380875</td>\n",
              "    </tr>\n",
              "  </tbody>\n",
              "</table>\n",
              "<p>61 rows × 10 columns</p>\n",
              "</div>"
            ],
            "text/plain": [
              "                      0            1  ...            8            9\n",
              "ORIGEM                1            1  ...            1            1\n",
              "CODESTAB    2.36515e+06  2.72706e+06  ...  2.70304e+06  2.34488e+06\n",
              "CODMUNNASC       220390       221100  ...       260280       260960\n",
              "LOCNASC               1            1  ...            1            1\n",
              "IDADEMAE             26           29  ...           32           26\n",
              "...                 ...          ...  ...          ...          ...\n",
              "CODPAISRES            1            1  ...            1            1\n",
              "TPROBSON              3           10  ...           10            5\n",
              "PARIDADE              1            0  ...            1            1\n",
              "KOTELCHUCK            5            5  ...            2            2\n",
              "CONTADOR         215113       232260  ...       361929       380875\n",
              "\n",
              "[61 rows x 10 columns]"
            ]
          },
          "metadata": {},
          "execution_count": 27
        }
      ]
    },
    {
      "cell_type": "code",
      "metadata": {
        "colab": {
          "base_uri": "https://localhost:8080/"
        },
        "id": "3NbIochb49oa",
        "outputId": "3c512c84-5463-48da-cfd5-7c0c899508cc"
      },
      "source": [
        "print(sinasc19.columns)\n",
        "print('-----------------------------------------------------------------------------')\n",
        "print(sinasc19.dtypes)\n",
        "print('-----------------------------------------------------------------------------')\n",
        "print(sinasc19.dtypes.value_counts())\n",
        "print('-----------------------------------------------------------------------------')\n",
        "print(sinasc19.info())"
      ],
      "execution_count": 9,
      "outputs": [
        {
          "output_type": "stream",
          "name": "stdout",
          "text": [
            "Index(['ORIGEM', 'CODESTAB', 'CODMUNNASC', 'LOCNASC', 'IDADEMAE', 'ESTCIVMAE',\n",
            "       'ESCMAE', 'CODOCUPMAE', 'QTDFILVIVO', 'QTDFILMORT', 'CODMUNRES',\n",
            "       'GESTACAO', 'GRAVIDEZ', 'PARTO', 'CONSULTAS', 'DTNASC', 'HORANASC',\n",
            "       'SEXO', 'APGAR1', 'APGAR5', 'RACACOR', 'PESO', 'IDANOMAL', 'DTCADASTRO',\n",
            "       'CODANOMAL', 'NUMEROLOTE', 'VERSAOSIST', 'DTRECEBIM', 'DIFDATA',\n",
            "       'DTRECORIGA', 'NATURALMAE', 'CODMUNNATU', 'CODUFNATU', 'ESCMAE2010',\n",
            "       'SERIESCMAE', 'DTNASCMAE', 'RACACORMAE', 'QTDGESTANT', 'QTDPARTNOR',\n",
            "       'QTDPARTCES', 'IDADEPAI', 'DTULTMENST', 'SEMAGESTAC', 'TPMETESTIM',\n",
            "       'CONSPRENAT', 'MESPRENAT', 'TPAPRESENT', 'STTRABPART', 'STCESPARTO',\n",
            "       'TPNASCASSI', 'TPFUNCRESP', 'TPDOCRESP', 'DTDECLARAC', 'ESCMAEAGR1',\n",
            "       'STDNEPIDEM', 'STDNNOVA', 'CODPAISRES', 'TPROBSON', 'PARIDADE',\n",
            "       'KOTELCHUCK', 'CONTADOR'],\n",
            "      dtype='object')\n",
            "-----------------------------------------------------------------------------\n",
            "ORIGEM          int64\n",
            "CODESTAB      float64\n",
            "CODMUNNASC      int64\n",
            "LOCNASC         int64\n",
            "IDADEMAE        int64\n",
            "               ...   \n",
            "CODPAISRES      int64\n",
            "TPROBSON        int64\n",
            "PARIDADE        int64\n",
            "KOTELCHUCK      int64\n",
            "CONTADOR        int64\n",
            "Length: 61, dtype: object\n",
            "-----------------------------------------------------------------------------\n",
            "float64    39\n",
            "int64      20\n",
            "object      2\n",
            "dtype: int64\n",
            "-----------------------------------------------------------------------------\n",
            "<class 'pandas.core.frame.DataFrame'>\n",
            "RangeIndex: 20798 entries, 0 to 20797\n",
            "Data columns (total 61 columns):\n",
            " #   Column      Non-Null Count  Dtype  \n",
            "---  ------      --------------  -----  \n",
            " 0   ORIGEM      20798 non-null  int64  \n",
            " 1   CODESTAB    20707 non-null  float64\n",
            " 2   CODMUNNASC  20798 non-null  int64  \n",
            " 3   LOCNASC     20798 non-null  int64  \n",
            " 4   IDADEMAE    20798 non-null  int64  \n",
            " 5   ESTCIVMAE   20680 non-null  float64\n",
            " 6   ESCMAE      20690 non-null  float64\n",
            " 7   CODOCUPMAE  16229 non-null  float64\n",
            " 8   QTDFILVIVO  20636 non-null  float64\n",
            " 9   QTDFILMORT  20240 non-null  float64\n",
            " 10  CODMUNRES   20798 non-null  int64  \n",
            " 11  GESTACAO    20359 non-null  float64\n",
            " 12  GRAVIDEZ    20780 non-null  float64\n",
            " 13  PARTO       20789 non-null  float64\n",
            " 14  CONSULTAS   20798 non-null  int64  \n",
            " 15  DTNASC      20798 non-null  int64  \n",
            " 16  HORANASC    20783 non-null  float64\n",
            " 17  SEXO        20798 non-null  int64  \n",
            " 18  APGAR1      20308 non-null  float64\n",
            " 19  APGAR5      20332 non-null  float64\n",
            " 20  RACACOR     20579 non-null  float64\n",
            " 21  PESO        20798 non-null  int64  \n",
            " 22  IDANOMAL    20716 non-null  float64\n",
            " 23  DTCADASTRO  20798 non-null  int64  \n",
            " 24  CODANOMAL   159 non-null    object \n",
            " 25  NUMEROLOTE  20798 non-null  int64  \n",
            " 26  VERSAOSIST  20798 non-null  object \n",
            " 27  DTRECEBIM   20798 non-null  int64  \n",
            " 28  DIFDATA     20798 non-null  int64  \n",
            " 29  DTRECORIGA  0 non-null      float64\n",
            " 30  NATURALMAE  20715 non-null  float64\n",
            " 31  CODMUNNATU  20715 non-null  float64\n",
            " 32  CODUFNATU   20715 non-null  float64\n",
            " 33  ESCMAE2010  20689 non-null  float64\n",
            " 34  SERIESCMAE  13886 non-null  float64\n",
            " 35  DTNASCMAE   20782 non-null  float64\n",
            " 36  RACACORMAE  20578 non-null  float64\n",
            " 37  QTDGESTANT  20673 non-null  float64\n",
            " 38  QTDPARTNOR  20444 non-null  float64\n",
            " 39  QTDPARTCES  20519 non-null  float64\n",
            " 40  IDADEPAI    11842 non-null  float64\n",
            " 41  DTULTMENST  5908 non-null   float64\n",
            " 42  SEMAGESTAC  20359 non-null  float64\n",
            " 43  TPMETESTIM  20359 non-null  float64\n",
            " 44  CONSPRENAT  20668 non-null  float64\n",
            " 45  MESPRENAT   20507 non-null  float64\n",
            " 46  TPAPRESENT  20721 non-null  float64\n",
            " 47  STTRABPART  20744 non-null  float64\n",
            " 48  STCESPARTO  20441 non-null  float64\n",
            " 49  TPNASCASSI  20785 non-null  float64\n",
            " 50  TPFUNCRESP  18688 non-null  float64\n",
            " 51  TPDOCRESP   20797 non-null  float64\n",
            " 52  DTDECLARAC  20723 non-null  float64\n",
            " 53  ESCMAEAGR1  20689 non-null  float64\n",
            " 54  STDNEPIDEM  20798 non-null  int64  \n",
            " 55  STDNNOVA    20798 non-null  int64  \n",
            " 56  CODPAISRES  20798 non-null  int64  \n",
            " 57  TPROBSON    20798 non-null  int64  \n",
            " 58  PARIDADE    20798 non-null  int64  \n",
            " 59  KOTELCHUCK  20798 non-null  int64  \n",
            " 60  CONTADOR    20798 non-null  int64  \n",
            "dtypes: float64(39), int64(20), object(2)\n",
            "memory usage: 9.7+ MB\n",
            "None\n"
          ]
        }
      ]
    },
    {
      "cell_type": "code",
      "metadata": {
        "colab": {
          "base_uri": "https://localhost:8080/",
          "height": 317
        },
        "id": "SUvqjDeF4-oO",
        "outputId": "8ef8a44f-e614-460f-9c3f-58acff2410d2"
      },
      "source": [
        "sinasc19.describe()"
      ],
      "execution_count": 10,
      "outputs": [
        {
          "output_type": "execute_result",
          "data": {
            "text/html": [
              "<div>\n",
              "<style scoped>\n",
              "    .dataframe tbody tr th:only-of-type {\n",
              "        vertical-align: middle;\n",
              "    }\n",
              "\n",
              "    .dataframe tbody tr th {\n",
              "        vertical-align: top;\n",
              "    }\n",
              "\n",
              "    .dataframe thead th {\n",
              "        text-align: right;\n",
              "    }\n",
              "</style>\n",
              "<table border=\"1\" class=\"dataframe\">\n",
              "  <thead>\n",
              "    <tr style=\"text-align: right;\">\n",
              "      <th></th>\n",
              "      <th>ORIGEM</th>\n",
              "      <th>CODESTAB</th>\n",
              "      <th>CODMUNNASC</th>\n",
              "      <th>LOCNASC</th>\n",
              "      <th>IDADEMAE</th>\n",
              "      <th>ESTCIVMAE</th>\n",
              "      <th>ESCMAE</th>\n",
              "      <th>CODOCUPMAE</th>\n",
              "      <th>QTDFILVIVO</th>\n",
              "      <th>QTDFILMORT</th>\n",
              "      <th>CODMUNRES</th>\n",
              "      <th>GESTACAO</th>\n",
              "      <th>GRAVIDEZ</th>\n",
              "      <th>PARTO</th>\n",
              "      <th>CONSULTAS</th>\n",
              "      <th>DTNASC</th>\n",
              "      <th>HORANASC</th>\n",
              "      <th>SEXO</th>\n",
              "      <th>APGAR1</th>\n",
              "      <th>APGAR5</th>\n",
              "      <th>RACACOR</th>\n",
              "      <th>PESO</th>\n",
              "      <th>IDANOMAL</th>\n",
              "      <th>DTCADASTRO</th>\n",
              "      <th>NUMEROLOTE</th>\n",
              "      <th>DTRECEBIM</th>\n",
              "      <th>DIFDATA</th>\n",
              "      <th>DTRECORIGA</th>\n",
              "      <th>NATURALMAE</th>\n",
              "      <th>CODMUNNATU</th>\n",
              "      <th>CODUFNATU</th>\n",
              "      <th>ESCMAE2010</th>\n",
              "      <th>SERIESCMAE</th>\n",
              "      <th>DTNASCMAE</th>\n",
              "      <th>RACACORMAE</th>\n",
              "      <th>QTDGESTANT</th>\n",
              "      <th>QTDPARTNOR</th>\n",
              "      <th>QTDPARTCES</th>\n",
              "      <th>IDADEPAI</th>\n",
              "      <th>DTULTMENST</th>\n",
              "      <th>SEMAGESTAC</th>\n",
              "      <th>TPMETESTIM</th>\n",
              "      <th>CONSPRENAT</th>\n",
              "      <th>MESPRENAT</th>\n",
              "      <th>TPAPRESENT</th>\n",
              "      <th>STTRABPART</th>\n",
              "      <th>STCESPARTO</th>\n",
              "      <th>TPNASCASSI</th>\n",
              "      <th>TPFUNCRESP</th>\n",
              "      <th>TPDOCRESP</th>\n",
              "      <th>DTDECLARAC</th>\n",
              "      <th>ESCMAEAGR1</th>\n",
              "      <th>STDNEPIDEM</th>\n",
              "      <th>STDNNOVA</th>\n",
              "      <th>CODPAISRES</th>\n",
              "      <th>TPROBSON</th>\n",
              "      <th>PARIDADE</th>\n",
              "      <th>KOTELCHUCK</th>\n",
              "      <th>CONTADOR</th>\n",
              "    </tr>\n",
              "  </thead>\n",
              "  <tbody>\n",
              "    <tr>\n",
              "      <th>count</th>\n",
              "      <td>20798.0</td>\n",
              "      <td>2.070700e+04</td>\n",
              "      <td>20798.000000</td>\n",
              "      <td>20798.000000</td>\n",
              "      <td>20798.000000</td>\n",
              "      <td>20680.000000</td>\n",
              "      <td>20690.000000</td>\n",
              "      <td>16229.000000</td>\n",
              "      <td>20636.000000</td>\n",
              "      <td>20240.000000</td>\n",
              "      <td>20798.000000</td>\n",
              "      <td>20359.000000</td>\n",
              "      <td>20780.000000</td>\n",
              "      <td>20789.000000</td>\n",
              "      <td>20798.000000</td>\n",
              "      <td>2.079800e+04</td>\n",
              "      <td>20783.000000</td>\n",
              "      <td>20798.000000</td>\n",
              "      <td>20308.000000</td>\n",
              "      <td>20332.000000</td>\n",
              "      <td>20579.000000</td>\n",
              "      <td>20798.000000</td>\n",
              "      <td>20716.000000</td>\n",
              "      <td>2.079800e+04</td>\n",
              "      <td>2.079800e+04</td>\n",
              "      <td>2.079800e+04</td>\n",
              "      <td>20798.000000</td>\n",
              "      <td>0.0</td>\n",
              "      <td>20715.000000</td>\n",
              "      <td>20715.000000</td>\n",
              "      <td>20715.000000</td>\n",
              "      <td>20689.000000</td>\n",
              "      <td>13886.000000</td>\n",
              "      <td>2.078200e+04</td>\n",
              "      <td>20578.000000</td>\n",
              "      <td>20673.000000</td>\n",
              "      <td>20444.000000</td>\n",
              "      <td>20519.000000</td>\n",
              "      <td>11842.000000</td>\n",
              "      <td>5.908000e+03</td>\n",
              "      <td>20359.000000</td>\n",
              "      <td>20359.000000</td>\n",
              "      <td>20668.000000</td>\n",
              "      <td>20507.000000</td>\n",
              "      <td>20721.000000</td>\n",
              "      <td>20744.000000</td>\n",
              "      <td>20441.000000</td>\n",
              "      <td>20785.000000</td>\n",
              "      <td>18688.000000</td>\n",
              "      <td>20797.000000</td>\n",
              "      <td>2.072300e+04</td>\n",
              "      <td>20689.000000</td>\n",
              "      <td>20798.0</td>\n",
              "      <td>20798.0</td>\n",
              "      <td>20798.0</td>\n",
              "      <td>20798.00000</td>\n",
              "      <td>20798.000000</td>\n",
              "      <td>20798.000000</td>\n",
              "      <td>20798.000000</td>\n",
              "    </tr>\n",
              "    <tr>\n",
              "      <th>mean</th>\n",
              "      <td>1.0</td>\n",
              "      <td>3.901414e+06</td>\n",
              "      <td>330013.596067</td>\n",
              "      <td>1.011732</td>\n",
              "      <td>27.648524</td>\n",
              "      <td>1.569342</td>\n",
              "      <td>4.099710</td>\n",
              "      <td>789045.077885</td>\n",
              "      <td>0.948488</td>\n",
              "      <td>0.245800</td>\n",
              "      <td>330264.486104</td>\n",
              "      <td>4.871064</td>\n",
              "      <td>1.024013</td>\n",
              "      <td>1.659483</td>\n",
              "      <td>3.645495</td>\n",
              "      <td>1.568669e+07</td>\n",
              "      <td>1352.771496</td>\n",
              "      <td>1.485768</td>\n",
              "      <td>8.346612</td>\n",
              "      <td>9.238343</td>\n",
              "      <td>2.740269</td>\n",
              "      <td>3157.604337</td>\n",
              "      <td>2.385644</td>\n",
              "      <td>1.668453e+07</td>\n",
              "      <td>2.019099e+07</td>\n",
              "      <td>1.397206e+07</td>\n",
              "      <td>95.930859</td>\n",
              "      <td>NaN</td>\n",
              "      <td>832.448757</td>\n",
              "      <td>324902.075163</td>\n",
              "      <td>32.448757</td>\n",
              "      <td>3.171975</td>\n",
              "      <td>3.951534</td>\n",
              "      <td>1.583018e+07</td>\n",
              "      <td>2.740354</td>\n",
              "      <td>1.180042</td>\n",
              "      <td>0.531501</td>\n",
              "      <td>0.444807</td>\n",
              "      <td>32.001436</td>\n",
              "      <td>1.567260e+07</td>\n",
              "      <td>38.320890</td>\n",
              "      <td>3.281644</td>\n",
              "      <td>8.779659</td>\n",
              "      <td>5.478178</td>\n",
              "      <td>1.180686</td>\n",
              "      <td>2.382424</td>\n",
              "      <td>2.338291</td>\n",
              "      <td>1.014578</td>\n",
              "      <td>2.300514</td>\n",
              "      <td>3.081454</td>\n",
              "      <td>1.573939e+07</td>\n",
              "      <td>6.159022</td>\n",
              "      <td>0.0</td>\n",
              "      <td>1.0</td>\n",
              "      <td>1.0</td>\n",
              "      <td>4.32407</td>\n",
              "      <td>0.624675</td>\n",
              "      <td>4.268151</td>\n",
              "      <td>744211.106741</td>\n",
              "    </tr>\n",
              "    <tr>\n",
              "      <th>std</th>\n",
              "      <td>0.0</td>\n",
              "      <td>2.140669e+06</td>\n",
              "      <td>2614.210013</td>\n",
              "      <td>0.178836</td>\n",
              "      <td>6.791196</td>\n",
              "      <td>0.915782</td>\n",
              "      <td>0.822766</td>\n",
              "      <td>304440.863355</td>\n",
              "      <td>1.144052</td>\n",
              "      <td>0.577257</td>\n",
              "      <td>140.565125</td>\n",
              "      <td>0.448034</td>\n",
              "      <td>0.156514</td>\n",
              "      <td>0.473894</td>\n",
              "      <td>0.870110</td>\n",
              "      <td>8.676984e+06</td>\n",
              "      <td>593.067916</td>\n",
              "      <td>0.500002</td>\n",
              "      <td>1.600697</td>\n",
              "      <td>1.024730</td>\n",
              "      <td>1.388531</td>\n",
              "      <td>574.389821</td>\n",
              "      <td>1.616266</td>\n",
              "      <td>8.855658e+06</td>\n",
              "      <td>2.953058e+03</td>\n",
              "      <td>7.887010e+06</td>\n",
              "      <td>134.746268</td>\n",
              "      <td>NaN</td>\n",
              "      <td>2.683116</td>\n",
              "      <td>26823.767650</td>\n",
              "      <td>2.683116</td>\n",
              "      <td>1.193444</td>\n",
              "      <td>2.219960</td>\n",
              "      <td>8.727825e+06</td>\n",
              "      <td>1.388511</td>\n",
              "      <td>1.348981</td>\n",
              "      <td>1.057065</td>\n",
              "      <td>0.731574</td>\n",
              "      <td>7.907203</td>\n",
              "      <td>8.717750e+06</td>\n",
              "      <td>2.192126</td>\n",
              "      <td>3.124878</td>\n",
              "      <td>9.151004</td>\n",
              "      <td>16.617341</td>\n",
              "      <td>1.091418</td>\n",
              "      <td>1.830514</td>\n",
              "      <td>1.786990</td>\n",
              "      <td>0.238131</td>\n",
              "      <td>1.335478</td>\n",
              "      <td>0.813311</td>\n",
              "      <td>8.684168e+06</td>\n",
              "      <td>2.457870</td>\n",
              "      <td>0.0</td>\n",
              "      <td>0.0</td>\n",
              "      <td>0.0</td>\n",
              "      <td>2.84431</td>\n",
              "      <td>0.484218</td>\n",
              "      <td>1.540708</td>\n",
              "      <td>15915.696035</td>\n",
              "    </tr>\n",
              "    <tr>\n",
              "      <th>min</th>\n",
              "      <td>1.0</td>\n",
              "      <td>2.000000e+01</td>\n",
              "      <td>220390.000000</td>\n",
              "      <td>1.000000</td>\n",
              "      <td>12.000000</td>\n",
              "      <td>1.000000</td>\n",
              "      <td>1.000000</td>\n",
              "      <td>21105.000000</td>\n",
              "      <td>0.000000</td>\n",
              "      <td>0.000000</td>\n",
              "      <td>330010.000000</td>\n",
              "      <td>1.000000</td>\n",
              "      <td>1.000000</td>\n",
              "      <td>1.000000</td>\n",
              "      <td>1.000000</td>\n",
              "      <td>1.012019e+06</td>\n",
              "      <td>0.000000</td>\n",
              "      <td>0.000000</td>\n",
              "      <td>0.000000</td>\n",
              "      <td>0.000000</td>\n",
              "      <td>1.000000</td>\n",
              "      <td>220.000000</td>\n",
              "      <td>1.000000</td>\n",
              "      <td>1.022019e+06</td>\n",
              "      <td>2.019000e+07</td>\n",
              "      <td>1.072019e+06</td>\n",
              "      <td>2.000000</td>\n",
              "      <td>NaN</td>\n",
              "      <td>811.000000</td>\n",
              "      <td>110000.000000</td>\n",
              "      <td>11.000000</td>\n",
              "      <td>0.000000</td>\n",
              "      <td>1.000000</td>\n",
              "      <td>1.011979e+06</td>\n",
              "      <td>1.000000</td>\n",
              "      <td>0.000000</td>\n",
              "      <td>0.000000</td>\n",
              "      <td>0.000000</td>\n",
              "      <td>13.000000</td>\n",
              "      <td>1.032018e+06</td>\n",
              "      <td>19.000000</td>\n",
              "      <td>1.000000</td>\n",
              "      <td>0.000000</td>\n",
              "      <td>1.000000</td>\n",
              "      <td>1.000000</td>\n",
              "      <td>1.000000</td>\n",
              "      <td>1.000000</td>\n",
              "      <td>1.000000</td>\n",
              "      <td>1.000000</td>\n",
              "      <td>0.000000</td>\n",
              "      <td>1.012019e+06</td>\n",
              "      <td>0.000000</td>\n",
              "      <td>0.0</td>\n",
              "      <td>1.0</td>\n",
              "      <td>1.0</td>\n",
              "      <td>1.00000</td>\n",
              "      <td>0.000000</td>\n",
              "      <td>1.000000</td>\n",
              "      <td>215113.000000</td>\n",
              "    </tr>\n",
              "    <tr>\n",
              "      <th>25%</th>\n",
              "      <td>1.0</td>\n",
              "      <td>2.289709e+06</td>\n",
              "      <td>330170.000000</td>\n",
              "      <td>1.000000</td>\n",
              "      <td>22.000000</td>\n",
              "      <td>1.000000</td>\n",
              "      <td>4.000000</td>\n",
              "      <td>512120.000000</td>\n",
              "      <td>0.000000</td>\n",
              "      <td>0.000000</td>\n",
              "      <td>330170.000000</td>\n",
              "      <td>5.000000</td>\n",
              "      <td>1.000000</td>\n",
              "      <td>1.000000</td>\n",
              "      <td>3.000000</td>\n",
              "      <td>8.042019e+06</td>\n",
              "      <td>942.000000</td>\n",
              "      <td>1.000000</td>\n",
              "      <td>8.000000</td>\n",
              "      <td>9.000000</td>\n",
              "      <td>1.000000</td>\n",
              "      <td>2875.000000</td>\n",
              "      <td>2.000000</td>\n",
              "      <td>9.092019e+06</td>\n",
              "      <td>2.019001e+07</td>\n",
              "      <td>8.062020e+06</td>\n",
              "      <td>37.000000</td>\n",
              "      <td>NaN</td>\n",
              "      <td>833.000000</td>\n",
              "      <td>330170.000000</td>\n",
              "      <td>33.000000</td>\n",
              "      <td>2.000000</td>\n",
              "      <td>3.000000</td>\n",
              "      <td>8.091993e+06</td>\n",
              "      <td>1.000000</td>\n",
              "      <td>0.000000</td>\n",
              "      <td>0.000000</td>\n",
              "      <td>0.000000</td>\n",
              "      <td>26.000000</td>\n",
              "      <td>8.062018e+06</td>\n",
              "      <td>38.000000</td>\n",
              "      <td>1.000000</td>\n",
              "      <td>6.000000</td>\n",
              "      <td>1.000000</td>\n",
              "      <td>1.000000</td>\n",
              "      <td>2.000000</td>\n",
              "      <td>1.000000</td>\n",
              "      <td>1.000000</td>\n",
              "      <td>2.000000</td>\n",
              "      <td>3.000000</td>\n",
              "      <td>8.042019e+06</td>\n",
              "      <td>5.000000</td>\n",
              "      <td>0.0</td>\n",
              "      <td>1.0</td>\n",
              "      <td>1.0</td>\n",
              "      <td>2.00000</td>\n",
              "      <td>0.000000</td>\n",
              "      <td>3.000000</td>\n",
              "      <td>740118.250000</td>\n",
              "    </tr>\n",
              "    <tr>\n",
              "      <th>50%</th>\n",
              "      <td>1.0</td>\n",
              "      <td>3.065634e+06</td>\n",
              "      <td>330220.000000</td>\n",
              "      <td>1.000000</td>\n",
              "      <td>27.000000</td>\n",
              "      <td>1.000000</td>\n",
              "      <td>4.000000</td>\n",
              "      <td>999992.000000</td>\n",
              "      <td>1.000000</td>\n",
              "      <td>0.000000</td>\n",
              "      <td>330240.000000</td>\n",
              "      <td>5.000000</td>\n",
              "      <td>1.000000</td>\n",
              "      <td>2.000000</td>\n",
              "      <td>4.000000</td>\n",
              "      <td>1.506202e+07</td>\n",
              "      <td>1354.000000</td>\n",
              "      <td>1.000000</td>\n",
              "      <td>9.000000</td>\n",
              "      <td>9.000000</td>\n",
              "      <td>4.000000</td>\n",
              "      <td>3195.000000</td>\n",
              "      <td>2.000000</td>\n",
              "      <td>1.706202e+07</td>\n",
              "      <td>2.019002e+07</td>\n",
              "      <td>1.106202e+07</td>\n",
              "      <td>52.000000</td>\n",
              "      <td>NaN</td>\n",
              "      <td>833.000000</td>\n",
              "      <td>330330.000000</td>\n",
              "      <td>33.000000</td>\n",
              "      <td>3.000000</td>\n",
              "      <td>3.000000</td>\n",
              "      <td>1.604200e+07</td>\n",
              "      <td>4.000000</td>\n",
              "      <td>1.000000</td>\n",
              "      <td>0.000000</td>\n",
              "      <td>0.000000</td>\n",
              "      <td>32.000000</td>\n",
              "      <td>1.509202e+07</td>\n",
              "      <td>39.000000</td>\n",
              "      <td>1.000000</td>\n",
              "      <td>8.000000</td>\n",
              "      <td>2.000000</td>\n",
              "      <td>1.000000</td>\n",
              "      <td>2.000000</td>\n",
              "      <td>2.000000</td>\n",
              "      <td>1.000000</td>\n",
              "      <td>2.000000</td>\n",
              "      <td>3.000000</td>\n",
              "      <td>1.601202e+07</td>\n",
              "      <td>6.000000</td>\n",
              "      <td>0.0</td>\n",
              "      <td>1.0</td>\n",
              "      <td>1.0</td>\n",
              "      <td>4.00000</td>\n",
              "      <td>1.000000</td>\n",
              "      <td>5.000000</td>\n",
              "      <td>745328.500000</td>\n",
              "    </tr>\n",
              "    <tr>\n",
              "      <th>75%</th>\n",
              "      <td>1.0</td>\n",
              "      <td>6.007317e+06</td>\n",
              "      <td>330330.000000</td>\n",
              "      <td>1.000000</td>\n",
              "      <td>33.000000</td>\n",
              "      <td>2.000000</td>\n",
              "      <td>4.000000</td>\n",
              "      <td>999992.000000</td>\n",
              "      <td>1.000000</td>\n",
              "      <td>0.000000</td>\n",
              "      <td>330340.000000</td>\n",
              "      <td>5.000000</td>\n",
              "      <td>1.000000</td>\n",
              "      <td>2.000000</td>\n",
              "      <td>4.000000</td>\n",
              "      <td>2.305202e+07</td>\n",
              "      <td>1840.000000</td>\n",
              "      <td>2.000000</td>\n",
              "      <td>9.000000</td>\n",
              "      <td>10.000000</td>\n",
              "      <td>4.000000</td>\n",
              "      <td>3505.000000</td>\n",
              "      <td>2.000000</td>\n",
              "      <td>2.502202e+07</td>\n",
              "      <td>2.019004e+07</td>\n",
              "      <td>2.003202e+07</td>\n",
              "      <td>74.000000</td>\n",
              "      <td>NaN</td>\n",
              "      <td>833.000000</td>\n",
              "      <td>330455.000000</td>\n",
              "      <td>33.000000</td>\n",
              "      <td>3.000000</td>\n",
              "      <td>6.000000</td>\n",
              "      <td>2.309199e+07</td>\n",
              "      <td>4.000000</td>\n",
              "      <td>2.000000</td>\n",
              "      <td>1.000000</td>\n",
              "      <td>1.000000</td>\n",
              "      <td>37.000000</td>\n",
              "      <td>2.403202e+07</td>\n",
              "      <td>39.000000</td>\n",
              "      <td>8.000000</td>\n",
              "      <td>10.000000</td>\n",
              "      <td>3.000000</td>\n",
              "      <td>1.000000</td>\n",
              "      <td>2.000000</td>\n",
              "      <td>3.000000</td>\n",
              "      <td>1.000000</td>\n",
              "      <td>2.000000</td>\n",
              "      <td>3.000000</td>\n",
              "      <td>2.305202e+07</td>\n",
              "      <td>8.000000</td>\n",
              "      <td>0.0</td>\n",
              "      <td>1.0</td>\n",
              "      <td>1.0</td>\n",
              "      <td>5.00000</td>\n",
              "      <td>1.000000</td>\n",
              "      <td>5.000000</td>\n",
              "      <td>750538.750000</td>\n",
              "    </tr>\n",
              "    <tr>\n",
              "      <th>max</th>\n",
              "      <td>1.0</td>\n",
              "      <td>9.590676e+06</td>\n",
              "      <td>330490.000000</td>\n",
              "      <td>9.000000</td>\n",
              "      <td>51.000000</td>\n",
              "      <td>9.000000</td>\n",
              "      <td>9.000000</td>\n",
              "      <td>999994.000000</td>\n",
              "      <td>10.000000</td>\n",
              "      <td>8.000000</td>\n",
              "      <td>330630.000000</td>\n",
              "      <td>6.000000</td>\n",
              "      <td>3.000000</td>\n",
              "      <td>2.000000</td>\n",
              "      <td>9.000000</td>\n",
              "      <td>3.105202e+07</td>\n",
              "      <td>2359.000000</td>\n",
              "      <td>2.000000</td>\n",
              "      <td>99.000000</td>\n",
              "      <td>99.000000</td>\n",
              "      <td>5.000000</td>\n",
              "      <td>6305.000000</td>\n",
              "      <td>9.000000</td>\n",
              "      <td>3.107202e+07</td>\n",
              "      <td>2.020008e+07</td>\n",
              "      <td>3.105202e+07</td>\n",
              "      <td>685.000000</td>\n",
              "      <td>NaN</td>\n",
              "      <td>853.000000</td>\n",
              "      <td>530010.000000</td>\n",
              "      <td>53.000000</td>\n",
              "      <td>9.000000</td>\n",
              "      <td>8.000000</td>\n",
              "      <td>3.112200e+07</td>\n",
              "      <td>5.000000</td>\n",
              "      <td>25.000000</td>\n",
              "      <td>10.000000</td>\n",
              "      <td>20.000000</td>\n",
              "      <td>78.000000</td>\n",
              "      <td>3.110202e+07</td>\n",
              "      <td>45.000000</td>\n",
              "      <td>9.000000</td>\n",
              "      <td>99.000000</td>\n",
              "      <td>99.000000</td>\n",
              "      <td>9.000000</td>\n",
              "      <td>9.000000</td>\n",
              "      <td>9.000000</td>\n",
              "      <td>9.000000</td>\n",
              "      <td>5.000000</td>\n",
              "      <td>5.000000</td>\n",
              "      <td>3.108202e+07</td>\n",
              "      <td>12.000000</td>\n",
              "      <td>0.0</td>\n",
              "      <td>1.0</td>\n",
              "      <td>1.0</td>\n",
              "      <td>11.00000</td>\n",
              "      <td>1.000000</td>\n",
              "      <td>9.000000</td>\n",
              "      <td>755741.000000</td>\n",
              "    </tr>\n",
              "  </tbody>\n",
              "</table>\n",
              "</div>"
            ],
            "text/plain": [
              "        ORIGEM      CODESTAB  ...    KOTELCHUCK       CONTADOR\n",
              "count  20798.0  2.070700e+04  ...  20798.000000   20798.000000\n",
              "mean       1.0  3.901414e+06  ...      4.268151  744211.106741\n",
              "std        0.0  2.140669e+06  ...      1.540708   15915.696035\n",
              "min        1.0  2.000000e+01  ...      1.000000  215113.000000\n",
              "25%        1.0  2.289709e+06  ...      3.000000  740118.250000\n",
              "50%        1.0  3.065634e+06  ...      5.000000  745328.500000\n",
              "75%        1.0  6.007317e+06  ...      5.000000  750538.750000\n",
              "max        1.0  9.590676e+06  ...      9.000000  755741.000000\n",
              "\n",
              "[8 rows x 59 columns]"
            ]
          },
          "metadata": {},
          "execution_count": 10
        }
      ]
    },
    {
      "cell_type": "markdown",
      "metadata": {
        "id": "0NYx1LVmvtVU"
      },
      "source": [
        "### Visualização dos Dados"
      ]
    },
    {
      "cell_type": "markdown",
      "metadata": {
        "id": "QxNENveu61bj"
      },
      "source": [
        "A análise visual abrangeu aspectos diversos da distribuição dos dados pelas variáveis. Ao se reservar atenção à variável de desfecho, PESO, pode ser observado que essa é uma pouca das variáveis que performam uma escala ou outras tendências. Em destaque, na análise dos histogramas, pode ser observado que a variável Peso possui uma das melhores distribuições entre as classes, sendo uma métrica interessante para ser estudada.\n",
        "\n",
        "- Numeros e relações com a variável peso\n",
        "- Peso sozinho\n",
        "- Peso e Sexo\n",
        "- Peso e gestacao\n",
        "- peso e semagestacao\n",
        "- peso e trobson"
      ]
    },
    {
      "cell_type": "code",
      "metadata": {
        "id": "gXyMUMFicLNg"
      },
      "source": [
        "# Multi-plot grids\n",
        "sinasc19.hist(bins=50, figsize=(25,25))\n",
        "plt.show()"
      ],
      "execution_count": null,
      "outputs": []
    },
    {
      "cell_type": "code",
      "metadata": {
        "id": "4Y1xPTHLjTSh"
      },
      "source": [
        "# Exclusão de variáveis sem nulas ou sem relação com o objeto\n",
        "sinasc19 = sinasc19.drop(columns=['ORIGEM', 'STDNEPIDEM', 'STDNNOVA', 'CODPAISRES', 'TPNASCASSI',\n",
        "                                  'DTCADASTRO', 'CODMUNNASC'], axis=1)"
      ],
      "execution_count": 28,
      "outputs": []
    },
    {
      "cell_type": "code",
      "metadata": {
        "id": "tYsZFhy4q0VJ"
      },
      "source": [
        "# GESTACAO\n",
        "\n",
        "print(sinasc19['GESTACAO'].value_counts())\n",
        "sns.countplot(sinasc19['GESTACAO'])"
      ],
      "execution_count": null,
      "outputs": []
    },
    {
      "cell_type": "code",
      "metadata": {
        "id": "GRAziWRwAxv1"
      },
      "source": [
        "sns.countplot(x='SEXO', hue='GESTACAO', data=sinasc19)"
      ],
      "execution_count": null,
      "outputs": []
    },
    {
      "cell_type": "code",
      "metadata": {
        "id": "xQW3mAnrz2N8"
      },
      "source": [
        "# SEMAGESTAC\n",
        "\n",
        "print(sinasc19['SEMAGESTAC'].value_counts())\n",
        "\n",
        "# Observação Gráfica\n",
        "w = sinasc19['SEMAGESTAC'].value_counts().index\n",
        "k = sinasc19['SEMAGESTAC'].value_counts().values\n",
        "\n",
        "fig1, ax1 = plt.subplots(figsize=(8, 8))\n",
        "ax1.pie(k, labels=w, autopct='%1.1f%%', shadow=True, startangle=90)\n",
        "ax1.axis('equal')"
      ],
      "execution_count": null,
      "outputs": []
    },
    {
      "cell_type": "code",
      "metadata": {
        "id": "rOryOpi6q8PA"
      },
      "source": [
        "# IDADEMAE\n",
        "\n",
        "sns.countplot(sinasc19['IDADEMAE'])\n",
        "print(sinasc19.PESO.mean())\n",
        "colunas = ['IDADEMAE','PESO']\n",
        "print(sinasc19[colunas].describe())"
      ],
      "execution_count": null,
      "outputs": []
    },
    {
      "cell_type": "code",
      "metadata": {
        "id": "B1jcVIzk_rrR"
      },
      "source": [
        "# SEXO\n",
        "\n",
        "sns.countplot(sinasc19['SEXO'])"
      ],
      "execution_count": null,
      "outputs": []
    },
    {
      "cell_type": "markdown",
      "metadata": {
        "id": "_cs_cnTAq-OY"
      },
      "source": [
        "### Análise da Variável PESO"
      ]
    },
    {
      "cell_type": "code",
      "metadata": {
        "colab": {
          "base_uri": "https://localhost:8080/",
          "height": 386
        },
        "id": "eMfbp-5qqs0n",
        "outputId": "04dc0579-9dd6-4f60-a81d-fed465fdc086"
      },
      "source": [
        "sns.displot(sinasc19, x='PESO', binwidth=200)"
      ],
      "execution_count": 12,
      "outputs": [
        {
          "output_type": "execute_result",
          "data": {
            "text/plain": [
              "<seaborn.axisgrid.FacetGrid at 0x7f63930fdfd0>"
            ]
          },
          "metadata": {},
          "execution_count": 12
        },
        {
          "output_type": "display_data",
          "data": {
            "image/png": "[encoded data removed]",
            "text/plain": [
              "<Figure size 360x360 with 1 Axes>"
            ]
          },
          "metadata": {
            "needs_background": "light"
          }
        }
      ]
    },
    {
      "cell_type": "code",
      "metadata": {
        "id": "UrOp8kfNzMfD"
      },
      "source": [
        "sns.distplot(sinasc19['PESO'].dropna())"
      ],
      "execution_count": null,
      "outputs": []
    },
    {
      "cell_type": "code",
      "metadata": {
        "id": "TO-OLEAvv549"
      },
      "source": [
        "sns.set_theme(style='whitegrid')\n",
        "bx = sns.boxplot(x=sinasc19['PESO'])"
      ],
      "execution_count": null,
      "outputs": []
    },
    {
      "cell_type": "markdown",
      "metadata": {
        "id": "xrfldwMbrS_-"
      },
      "source": [
        "#### Relação PESO x Feautures"
      ]
    },
    {
      "cell_type": "code",
      "metadata": {
        "id": "2vgnPAc5rZny"
      },
      "source": [
        "# Relação PESO x SEXO\n",
        "sns.displot(sinasc19, x='PESO', binwidth=200, hue='SEXO', palette='husl')"
      ],
      "execution_count": null,
      "outputs": []
    },
    {
      "cell_type": "code",
      "metadata": {
        "id": "oow1RvfwsVOP"
      },
      "source": [
        "sns.lmplot(data=sinasc19, x='TPROBSON', y='PESO', hue='SEXO', palette='Set1')"
      ],
      "execution_count": null,
      "outputs": []
    },
    {
      "cell_type": "code",
      "metadata": {
        "id": "MAG8G51rr4Ym"
      },
      "source": [
        "# Relação PESO x GESTACAO\n",
        "sns.displot(sinasc19, x='PESO', binwidth=200, hue='GESTACAO', palette='husl')"
      ],
      "execution_count": null,
      "outputs": []
    },
    {
      "cell_type": "code",
      "metadata": {
        "id": "L5s-hQkv3kKo"
      },
      "source": [
        "# Relação PESO x SEMAGESTAC\n",
        "sns.lmplot(data=sinasc19, x='SEMAGESTAC', y='PESO', hue='SEXO', palette='Set1')\n",
        "sinasc19.plot(kind='scatter', x='SEMAGESTAC', y='PESO', alpha=.1)"
      ],
      "execution_count": null,
      "outputs": []
    },
    {
      "cell_type": "code",
      "metadata": {
        "id": "65XP4d1R62IJ"
      },
      "source": [
        "# PESO x SEMAGESTAC X SEXO\n",
        "sns.displot(sinasc19, x='PESO', hue='SEMAGESTAC', binwidth=150, col='SEXO', palette='husl')"
      ],
      "execution_count": null,
      "outputs": []
    },
    {
      "cell_type": "code",
      "metadata": {
        "id": "8LHOkv0MNPJ_"
      },
      "source": [
        "# PESO X PARTO\n",
        "sns.displot(sinasc19, x='PESO', binwidth=200, hue='PARTO', palette='husl')"
      ],
      "execution_count": null,
      "outputs": []
    },
    {
      "cell_type": "markdown",
      "metadata": {
        "id": "6nQW8uu8f_jn"
      },
      "source": [
        "Com essas avaliações, buscou-se observar a distribuição dos dados e sua relação com valores extremos ou outliers. Nota-se que no conjunto de dados há valores destoantes, que podem ser derivados de fatores como mal preenchimento ou erro nas unidades de medida. Foram observados cerca de 220 mil casos, sendo que o peso médio dos recém-nascidos é de cerca de 3 kg,com valores extremos abaixo de 2 kg e acima de 4,5 kg, aproximadamente, com crianças do sexo masculino apresentando a tendência de terem maior peso que crianças do sexo feminino. As mães possuem média de idade de cerca de 27 anos, com idade mínima de 10 anos e máxima de 99 anos (com grande possibilidade de correspondem a um erro no conjunto de dados). Ademais, há ampla sobreposição para os valores de peso entre os tipos de parto, sendo que há bem menos casos em que o tipo de parto foi ignorado. Parece também não haver uma correlação direta entre a idade das mães e o peso das crianças, tal qual para o número de consultas e o peso, todavia, essa variável de desfecho indica tendências quando o número de semanas de gestação é considerado."
      ]
    },
    {
      "cell_type": "markdown",
      "metadata": {
        "id": "uIAxbpqxtBPG"
      },
      "source": [
        "### Análise de Correlação"
      ]
    },
    {
      "cell_type": "code",
      "metadata": {
        "colab": {
          "base_uri": "https://localhost:8080/",
          "height": 1000
        },
        "id": "GidM8dt1gADv",
        "outputId": "859d682a-a61c-4983-f184-cb99c0c0a2e4"
      },
      "source": [
        "sinasc19['PESO'] = sinasc19['PESO'].astype('category').cat.codes\n",
        "\n",
        "sinasc_corr = sinasc19.corr()\n",
        "corr_values = sinasc_corr['PESO'].sort_values(ascending=False)\n",
        "corr_values = abs(corr_values).sort_values(ascending=False)\n",
        "\n",
        "print('Correlação das features numéricas com o resultado em ordem crescente')\n",
        "print(abs(corr_values).sort_values(ascending=False))\n",
        "\n",
        "corr4 = sinasc19.corr()\n",
        "plt.figure(figsize=(10, 10))\n",
        "ax = sns.heatmap(\n",
        "    corr4,\n",
        "    vmin=-1, vmax=1, center=0,\n",
        "    cmap=sns.diverging_palette(20, 250, n=200),\n",
        "    square=False,\n",
        "    linewidths=.5\n",
        ")\n",
        "ax.set_xticklabels(\n",
        "    ax.get_xticklabels(),\n",
        "    rotation=50,\n",
        "    horizontalalignment='right'\n",
        ");"
      ],
      "execution_count": 29,
      "outputs": [
        {
          "output_type": "stream",
          "name": "stdout",
          "text": [
            "Correlação das features numéricas com o resultado em ordem crescente\n",
            "PESO          1.000000\n",
            "SEMAGESTAC    0.557292\n",
            "GESTACAO      0.491645\n",
            "TPROBSON      0.306223\n",
            "GRAVIDEZ      0.220139\n",
            "SEXO          0.102392\n",
            "CONSULTAS     0.093714\n",
            "PARIDADE      0.081233\n",
            "QTDFILVIVO    0.048973\n",
            "KOTELCHUCK    0.042783\n",
            "QTDPARTCES    0.039668\n",
            "TPAPRESENT    0.038960\n",
            "QTDGESTANT    0.034521\n",
            "MESPRENAT     0.033756\n",
            "LOCNASC       0.029738\n",
            "CODMUNNATU    0.025987\n",
            "NATURALMAE    0.025974\n",
            "CODUFNATU     0.025974\n",
            "SERIESCMAE    0.024737\n",
            "CONSPRENAT    0.022569\n",
            "IDADEMAE      0.021956\n",
            "QTDFILMORT    0.019944\n",
            "QTDPARTNOR    0.017314\n",
            "STTRABPART    0.016541\n",
            "TPDOCRESP     0.015421\n",
            "CODESTAB      0.011005\n",
            "TPMETESTIM    0.010361\n",
            "PARTO         0.010081\n",
            "IDANOMAL      0.009568\n",
            "CONTADOR      0.009247\n",
            "IDADEPAI      0.008633\n",
            "CODMUNRES     0.008401\n",
            "RACACORMAE    0.008341\n",
            "RACACOR       0.008340\n",
            "ESCMAE        0.007794\n",
            "ESTCIVMAE     0.007324\n",
            "DTDECLARAC    0.004126\n",
            "CODOCUPMAE    0.003993\n",
            "TPFUNCRESP    0.003858\n",
            "HORANASC      0.003795\n",
            "NUMEROLOTE    0.003623\n",
            "DTNASC        0.003612\n",
            "ESCMAE2010    0.003519\n",
            "ESCMAEAGR1    0.003272\n",
            "APGAR1        0.003152\n",
            "DIFDATA       0.003108\n",
            "STCESPARTO    0.002962\n",
            "DTNASCMAE     0.002369\n",
            "DTRECEBIM     0.002320\n",
            "DTULTMENST    0.001576\n",
            "APGAR5        0.001373\n",
            "DTRECORIGA         NaN\n",
            "Name: PESO, dtype: float64\n"
          ]
        },
        {
          "output_type": "display_data",
          "data": {
            "image/png": "[encoded data removed]",
            "text/plain": [
              "<Figure size 720x720 with 2 Axes>"
            ]
          },
          "metadata": {
            "needs_background": "light"
          }
        }
      ]
    },
    {
      "cell_type": "markdown",
      "metadata": {
        "id": "hqE5LzlytiCJ"
      },
      "source": [
        "A partir disso, foram excluídas as variáveis com valores de baixa correlação, a exemplo de código de malformação congênita, série escolar da mãe, idade do pai, data da última menstruação,código do país de residência, trabalho de parto induzido ou não induzido, possibilidade de nascimento assistido, número de filhos mortos, escolaridade da mãe, cesáreo anterior ao trabalho de parto, dentre outras:"
      ]
    },
    {
      "cell_type": "code",
      "metadata": {
        "colab": {
          "base_uri": "https://localhost:8080/",
          "height": 86
        },
        "id": "fG2Enaf_tjZE",
        "outputId": "0982d491-7c72-4280-e6f3-bf070add1d2f"
      },
      "source": [
        "sinasc19 = sinasc19.drop(columns=['IDANOMAL', 'CONTADOR', 'CODMUNRES','RACACORMAE', 'RACACOR',\n",
        "                                  'ESCMAE', 'ESTCIVMAE', 'DTDECLARAC', 'HORANASC',\n",
        "                                  'NUMEROLOTE', 'ESCMAE2010', 'DTNASC','APGAR1', 'ESCMAEAGR1',\n",
        "                                  'CODOCUPMAE', 'DIFDATA', 'STCESPARTO', 'TPFUNCRESP',\n",
        "                                  'DTNASCMAE', 'DTRECEBIM', 'APGAR5' ], axis=1)\n",
        "\n",
        "'''\n",
        "sinasc19 = sinasc19.drop(columns=['QTDPARTNOR', 'QTDFILMORT', 'STTRABPART',\n",
        "                                  'TPDOCRESP', 'CODESTAB', 'TPMETESTIM', 'PARTO'], axis=1)\n",
        "\n",
        "sinasc19 = sinasc19.drop(columns=['KOTELCHUCK', 'QTDPARTCES', 'TPAPRESENT', 'QTDGESTANT',\n",
        "                                  'MESPRENAT', 'LOCNASC', 'CODMUNNATU','CODUFNATU',\n",
        "                                  'NATURALMAE','CONSPRENAT', 'IDADEMAE'], axis=1)\n",
        "\n",
        "sinasc19 = sinasc19.drop(columns=['LOCNASC', 'CODMUNNATU','CODUFNATU',\n",
        "                                  'NATURALMAE','CONSPRENAT', 'IDADEMAE'], axis=1)\n",
        "\n",
        "'''"
      ],
      "execution_count": 30,
      "outputs": [
        {
          "output_type": "execute_result",
          "data": {
            "application/vnd.google.colaboratory.intrinsic+json": {
              "type": "string"
            },
            "text/plain": [
              "\"\\nsinasc19 = sinasc19.drop(columns=['QTDPARTNOR', 'QTDFILMORT', 'STTRABPART',\\n                                  'TPDOCRESP', 'CODESTAB', 'TPMETESTIM', 'PARTO'], axis=1)\\n\\nsinasc19 = sinasc19.drop(columns=['KOTELCHUCK', 'QTDPARTCES', 'TPAPRESENT', 'QTDGESTANT',\\n                                  'MESPRENAT', 'LOCNASC', 'CODMUNNATU','CODUFNATU',\\n                                  'NATURALMAE','CONSPRENAT', 'IDADEMAE'], axis=1)\\n\\nsinasc19 = sinasc19.drop(columns=['LOCNASC', 'CODMUNNATU','CODUFNATU',\\n                                  'NATURALMAE','CONSPRENAT', 'IDADEMAE'], axis=1)\\n\\n\""
            ]
          },
          "metadata": {},
          "execution_count": 30
        }
      ]
    },
    {
      "cell_type": "markdown",
      "metadata": {
        "id": "W3Ekk_DwsciY"
      },
      "source": [
        "## Pré-Processamento"
      ]
    },
    {
      "cell_type": "markdown",
      "metadata": {
        "id": "YpwBRdj0ItIq"
      },
      "source": [
        "### Tratamento de outliers"
      ]
    },
    {
      "cell_type": "code",
      "metadata": {
        "colab": {
          "base_uri": "https://localhost:8080/",
          "height": 458
        },
        "id": "gK11fzN3K5V2",
        "outputId": "a6490de4-989c-47fd-d529-7421bea93b14"
      },
      "source": [
        "fig2, ax2 = plt.subplots(figsize=(12,6))\n",
        "fig2 = sns.boxplot(sinasc19.PESO).set_title('Boxplot')\n",
        "fig2.figure.savefig('boxplot_origin.png')"
      ],
      "execution_count": 31,
      "outputs": [
        {
          "output_type": "stream",
          "name": "stderr",
          "text": [
            "/usr/local/lib/python3.7/dist-packages/seaborn/_decorators.py:43: FutureWarning: Pass the following variable as a keyword arg: x. From version 0.12, the only valid positional argument will be `data`, and passing other arguments without an explicit keyword will result in an error or misinterpretation.\n",
            "  FutureWarning\n"
          ]
        },
        {
          "output_type": "display_data",
          "data": {
            "image/png": "[encoded data removed]",
            "text/plain": [
              "<Figure size 864x432 with 1 Axes>"
            ]
          },
          "metadata": {
            "needs_background": "light"
          }
        }
      ]
    },
    {
      "cell_type": "code",
      "metadata": {
        "colab": {
          "base_uri": "https://localhost:8080/",
          "height": 204
        },
        "id": "VTIKpA04Ldsk",
        "outputId": "d1ca658a-dabc-4652-944f-fdc1b793a120"
      },
      "source": [
        "def outliers(s):\n",
        "    iqr = (np.quantile(s, 0.75))-(np.quantile(s, 0.25))\n",
        "    upper_bound = np.quantile(s, 0.75)+(1.5*iqr)\n",
        "    lower_bound = np.quantile(s, 0.25)-(1.5*iqr)\n",
        "    f = []\n",
        "    for i in s:\n",
        "        if i > upper_bound:\n",
        "            f.append(i)\n",
        "        elif i < lower_bound:\n",
        "            f.append(i)\n",
        "    sums = len(f)\n",
        "    pros = len(f)/len(s)*100\n",
        "    d = {'IQR':iqr,\n",
        "         'Upper Bound':upper_bound,\n",
        "        'Lower Bound':lower_bound,\n",
        "        'Sum outliers': sums,'percentage outliers':pros}\n",
        "    d = pd.DataFrame(d.items(),columns = ['sub','values'])\n",
        "    return(d)\n",
        "    \n",
        "outliers(sinasc19.PESO)"
      ],
      "execution_count": 32,
      "outputs": [
        {
          "output_type": "execute_result",
          "data": {
            "text/html": [
              "<div>\n",
              "<style scoped>\n",
              "    .dataframe tbody tr th:only-of-type {\n",
              "        vertical-align: middle;\n",
              "    }\n",
              "\n",
              "    .dataframe tbody tr th {\n",
              "        vertical-align: top;\n",
              "    }\n",
              "\n",
              "    .dataframe thead th {\n",
              "        text-align: right;\n",
              "    }\n",
              "</style>\n",
              "<table border=\"1\" class=\"dataframe\">\n",
              "  <thead>\n",
              "    <tr style=\"text-align: right;\">\n",
              "      <th></th>\n",
              "      <th>sub</th>\n",
              "      <th>values</th>\n",
              "    </tr>\n",
              "  </thead>\n",
              "  <tbody>\n",
              "    <tr>\n",
              "      <th>0</th>\n",
              "      <td>IQR</td>\n",
              "      <td>520.00000</td>\n",
              "    </tr>\n",
              "    <tr>\n",
              "      <th>1</th>\n",
              "      <td>Upper Bound</td>\n",
              "      <td>2764.00000</td>\n",
              "    </tr>\n",
              "    <tr>\n",
              "      <th>2</th>\n",
              "      <td>Lower Bound</td>\n",
              "      <td>684.00000</td>\n",
              "    </tr>\n",
              "    <tr>\n",
              "      <th>3</th>\n",
              "      <td>Sum outliers</td>\n",
              "      <td>5223.00000</td>\n",
              "    </tr>\n",
              "    <tr>\n",
              "      <th>4</th>\n",
              "      <td>percentage outliers</td>\n",
              "      <td>2.51119</td>\n",
              "    </tr>\n",
              "  </tbody>\n",
              "</table>\n",
              "</div>"
            ],
            "text/plain": [
              "                   sub      values\n",
              "0                  IQR   520.00000\n",
              "1          Upper Bound  2764.00000\n",
              "2          Lower Bound   684.00000\n",
              "3         Sum outliers  5223.00000\n",
              "4  percentage outliers     2.51119"
            ]
          },
          "metadata": {},
          "execution_count": 32
        }
      ]
    },
    {
      "cell_type": "code",
      "metadata": {
        "colab": {
          "base_uri": "https://localhost:8080/",
          "height": 458
        },
        "id": "zqCUIPz0UXxD",
        "outputId": "0d58eecc-080f-4cc2-82c1-c57ed4ac41ab"
      },
      "source": [
        "s = sinasc19['PESO']\n",
        "iqr = (np.quantile(s, 0.75))-(np.quantile(s, 0.25))\n",
        "upper_bound = np.quantile(s, 0.75)+(1.5*iqr)\n",
        "lower_bound = np.quantile(s, 0.25)-(1.5*iqr)\n",
        "\n",
        "#drop outliers\n",
        "sinasc19 = sinasc19[(sinasc19['PESO'] <= upper_bound)]\n",
        "sinasc19 = sinasc19[(sinasc19['PESO'] <= lower_bound)]\n",
        "\n",
        "'''# limiting outliers\n",
        "sinasc19['PESO'] = np.where(sinasc19['PESO'] > upper_bound, upper_bound,sinasc19['PESO']) #higher\n",
        "sinasc19['PESO'] = np.where(sinasc19['PESO'] < lower_bound, lower_bound,sinasc19['PESO']) #lower'''\n",
        "\n",
        "\n",
        "fig,ax = plt.subplots(figsize=(12,6))\n",
        "fig = sns.boxplot(sinasc19.PESO).set_title('Boxplot')\n",
        "fig.figure.savefig('AP_drop.png')"
      ],
      "execution_count": 33,
      "outputs": [
        {
          "output_type": "stream",
          "name": "stderr",
          "text": [
            "/usr/local/lib/python3.7/dist-packages/seaborn/_decorators.py:43: FutureWarning: Pass the following variable as a keyword arg: x. From version 0.12, the only valid positional argument will be `data`, and passing other arguments without an explicit keyword will result in an error or misinterpretation.\n",
            "  FutureWarning\n"
          ]
        },
        {
          "output_type": "display_data",
          "data": {
            "image/png": "[encoded data removed]",
            "text/plain": [
              "<Figure size 864x432 with 1 Axes>"
            ]
          },
          "metadata": {
            "needs_background": "light"
          }
        }
      ]
    },
    {
      "cell_type": "markdown",
      "metadata": {
        "id": "sdsC_ygXgOp_"
      },
      "source": [
        "### Tratamento de Missing Values"
      ]
    },
    {
      "cell_type": "markdown",
      "metadata": {
        "id": "hU_gUrsEglZO"
      },
      "source": [
        "O algoritmo acima contém elementos que facilitam na análise de valores faltantes, sendo melhor do que funções e métodos separadamente. Em síntese ele retorna o total de missings de cada feature, bem como o percentual dentro de cada uma. O gráfico possibilita visualizar melhor o percentual de missing values de cada features, a atribuição feita no código é uma linha de “corte” de 50%, contudo visando reservar os atributos que podem conter uma boa correção com o “PESO”, foi aplicado no modelo a seguir um corte de 45%, isto é, exclusão das features que estão sobre este percentual. Ademais, foi programada a substituição dos atributos numéricos pela mediana, medida central que expressa melhor assertividade do que a média, por exemplo, principalmente em casos com maior possibilidade de variação numérica. Dentre os atributos categóricos foi substituído pela moda dos valores existentes.\n",
        "\n",
        "Isso facilita para interpretação do gráfico abaixo, que acrescente análise visual ao problema dos valores faltantes. Como um gráfico de barras simples o mesmo traça uma linha horizontal no ponto 50% da escala. Além disso o percentual anteriormente apresentado será a base para exclusão de das features com mais de 45% de valores faltantes. \n",
        "\n",
        "Sendo os demais valores das features permanecentes substituídos pela média das variáveis numéricas e pela mediana com variáveis categóricas.\n"
      ]
    },
    {
      "cell_type": "code",
      "metadata": {
        "colab": {
          "base_uri": "https://localhost:8080/",
          "height": 1000
        },
        "id": "HnC7vhE4gMdK",
        "outputId": "ad11f56e-6e02-4f76-8cee-629f2ef4f3cf"
      },
      "source": [
        "cat_null = sinasc19.isnull().sum()\n",
        "print(cat_null)\n",
        "cat_null = cat_null/len(sinasc19)*100\n",
        "cat_null = cat_null[cat_null>0]\n",
        "cat_null.sort_values(inplace=True, ascending=False)\n",
        "print(cat_null)\n",
        "\n",
        "null_cat=sinasc19.isna().sum()/len(sinasc19)*100\n",
        "plt.bar(range(len(null_cat)),null_cat)\n",
        "plt.xlabel('Features')\n",
        "plt.ylabel('% of NAN values')\n",
        "plt.plot([0, 25], [40, 40], 'r--', lw=1)\n",
        "plt.xticks(list(range(len(sinasc19.columns))),list(sinasc19.columns.values),rotation='vertical')"
      ],
      "execution_count": 34,
      "outputs": [
        {
          "output_type": "stream",
          "name": "stdout",
          "text": [
            "CODESTAB        63\n",
            "LOCNASC          0\n",
            "IDADEMAE         0\n",
            "QTDFILVIVO      26\n",
            "QTDFILMORT      42\n",
            "GESTACAO        60\n",
            "GRAVIDEZ         3\n",
            "PARTO            3\n",
            "CONSULTAS        0\n",
            "SEXO             0\n",
            "PESO             0\n",
            "CODANOMAL     4680\n",
            "VERSAOSIST       0\n",
            "DTRECORIGA    4790\n",
            "NATURALMAE      38\n",
            "CODMUNNATU      38\n",
            "CODUFNATU       38\n",
            "SERIESCMAE    2129\n",
            "QTDGESTANT      14\n",
            "QTDPARTNOR      37\n",
            "QTDPARTCES      40\n",
            "IDADEPAI      2674\n",
            "DTULTMENST    3503\n",
            "SEMAGESTAC      60\n",
            "TPMETESTIM      60\n",
            "CONSPRENAT      94\n",
            "MESPRENAT       97\n",
            "TPAPRESENT      14\n",
            "STTRABPART      20\n",
            "TPDOCRESP        0\n",
            "TPROBSON         0\n",
            "PARIDADE         0\n",
            "KOTELCHUCK       0\n",
            "dtype: int64\n",
            "DTRECORIGA    100.000000\n",
            "CODANOMAL      97.703549\n",
            "DTULTMENST     73.131524\n",
            "IDADEPAI       55.824635\n",
            "SERIESCMAE     44.446764\n",
            "MESPRENAT       2.025052\n",
            "CONSPRENAT      1.962422\n",
            "CODESTAB        1.315240\n",
            "SEMAGESTAC      1.252610\n",
            "TPMETESTIM      1.252610\n",
            "GESTACAO        1.252610\n",
            "QTDFILMORT      0.876827\n",
            "QTDPARTCES      0.835073\n",
            "CODUFNATU       0.793319\n",
            "CODMUNNATU      0.793319\n",
            "NATURALMAE      0.793319\n",
            "QTDPARTNOR      0.772443\n",
            "QTDFILVIVO      0.542797\n",
            "STTRABPART      0.417537\n",
            "QTDGESTANT      0.292276\n",
            "TPAPRESENT      0.292276\n",
            "PARTO           0.062630\n",
            "GRAVIDEZ        0.062630\n",
            "dtype: float64\n"
          ]
        },
        {
          "output_type": "execute_result",
          "data": {
            "text/plain": [
              "([<matplotlib.axis.XTick at 0x7f7e84500650>,\n",
              "  <matplotlib.axis.XTick at 0x7f7e84500510>,\n",
              "  <matplotlib.axis.XTick at 0x7f7e846021d0>,\n",
              "  <matplotlib.axis.XTick at 0x7f7e87285d90>,\n",
              "  <matplotlib.axis.XTick at 0x7f7e87285e10>,\n",
              "  <matplotlib.axis.XTick at 0x7f7e846abf50>,\n",
              "  <matplotlib.axis.XTick at 0x7f7e846ab290>,\n",
              "  <matplotlib.axis.XTick at 0x7f7e846aba90>,\n",
              "  <matplotlib.axis.XTick at 0x7f7e846ab810>,\n",
              "  <matplotlib.axis.XTick at 0x7f7e87285310>,\n",
              "  <matplotlib.axis.XTick at 0x7f7e84634310>,\n",
              "  <matplotlib.axis.XTick at 0x7f7e84634dd0>,\n",
              "  <matplotlib.axis.XTick at 0x7f7e872a6550>,\n",
              "  <matplotlib.axis.XTick at 0x7f7e8728b050>,\n",
              "  <matplotlib.axis.XTick at 0x7f7e8728bc90>,\n",
              "  <matplotlib.axis.XTick at 0x7f7e87298290>,\n",
              "  <matplotlib.axis.XTick at 0x7f7e87298c50>,\n",
              "  <matplotlib.axis.XTick at 0x7f7e84627a50>,\n",
              "  <matplotlib.axis.XTick at 0x7f7e846278d0>,\n",
              "  <matplotlib.axis.XTick at 0x7f7e872a6a50>,\n",
              "  <matplotlib.axis.XTick at 0x7f7e84634550>,\n",
              "  <matplotlib.axis.XTick at 0x7f7e846675d0>,\n",
              "  <matplotlib.axis.XTick at 0x7f7e84667850>,\n",
              "  <matplotlib.axis.XTick at 0x7f7e87236b90>,\n",
              "  <matplotlib.axis.XTick at 0x7f7e8464ef10>,\n",
              "  <matplotlib.axis.XTick at 0x7f7e8464e650>,\n",
              "  <matplotlib.axis.XTick at 0x7f7e84726390>,\n",
              "  <matplotlib.axis.XTick at 0x7f7e87236710>,\n",
              "  <matplotlib.axis.XTick at 0x7f7e8464e750>,\n",
              "  <matplotlib.axis.XTick at 0x7f7e84726cd0>,\n",
              "  <matplotlib.axis.XTick at 0x7f7e84645190>,\n",
              "  <matplotlib.axis.XTick at 0x7f7e84645550>,\n",
              "  <matplotlib.axis.XTick at 0x7f7e84645350>],\n",
              " [Text(0, 0, 'CODESTAB'),\n",
              "  Text(0, 0, 'LOCNASC'),\n",
              "  Text(0, 0, 'IDADEMAE'),\n",
              "  Text(0, 0, 'QTDFILVIVO'),\n",
              "  Text(0, 0, 'QTDFILMORT'),\n",
              "  Text(0, 0, 'GESTACAO'),\n",
              "  Text(0, 0, 'GRAVIDEZ'),\n",
              "  Text(0, 0, 'PARTO'),\n",
              "  Text(0, 0, 'CONSULTAS'),\n",
              "  Text(0, 0, 'SEXO'),\n",
              "  Text(0, 0, 'PESO'),\n",
              "  Text(0, 0, 'CODANOMAL'),\n",
              "  Text(0, 0, 'VERSAOSIST'),\n",
              "  Text(0, 0, 'DTRECORIGA'),\n",
              "  Text(0, 0, 'NATURALMAE'),\n",
              "  Text(0, 0, 'CODMUNNATU'),\n",
              "  Text(0, 0, 'CODUFNATU'),\n",
              "  Text(0, 0, 'SERIESCMAE'),\n",
              "  Text(0, 0, 'QTDGESTANT'),\n",
              "  Text(0, 0, 'QTDPARTNOR'),\n",
              "  Text(0, 0, 'QTDPARTCES'),\n",
              "  Text(0, 0, 'IDADEPAI'),\n",
              "  Text(0, 0, 'DTULTMENST'),\n",
              "  Text(0, 0, 'SEMAGESTAC'),\n",
              "  Text(0, 0, 'TPMETESTIM'),\n",
              "  Text(0, 0, 'CONSPRENAT'),\n",
              "  Text(0, 0, 'MESPRENAT'),\n",
              "  Text(0, 0, 'TPAPRESENT'),\n",
              "  Text(0, 0, 'STTRABPART'),\n",
              "  Text(0, 0, 'TPDOCRESP'),\n",
              "  Text(0, 0, 'TPROBSON'),\n",
              "  Text(0, 0, 'PARIDADE'),\n",
              "  Text(0, 0, 'KOTELCHUCK')])"
            ]
          },
          "metadata": {},
          "execution_count": 34
        },
        {
          "output_type": "display_data",
          "data": {
            "image/png": "[encoded data removed]",
            "text/plain": [
              "<Figure size 432x288 with 1 Axes>"
            ]
          },
          "metadata": {
            "needs_background": "light"
          }
        }
      ]
    },
    {
      "cell_type": "code",
      "metadata": {
        "colab": {
          "base_uri": "https://localhost:8080/"
        },
        "id": "_7ban1J9gWTV",
        "outputId": "37760882-7462-45b1-aa37-cf967cb99f5b"
      },
      "source": [
        "for col in sinasc19.columns.values:\n",
        "    if (pd.isna(sinasc19[col]).sum()) > 0: \n",
        "        if pd.isna(sinasc19[col]).sum() > (40/100 * len(sinasc19)): \n",
        "            print(col, 'removido') \n",
        "            sinasc19 = sinasc19.drop([col], axis=1) \n",
        "        elif (sinasc19[col].dtype == 'object'):\n",
        "            sinasc19[col] = sinasc19[col].fillna(sinasc19[col].mode()[0])        \n",
        "        else: sinasc19[col] = sinasc19[col].fillna(sinasc19[col].median())"
      ],
      "execution_count": 35,
      "outputs": [
        {
          "output_type": "stream",
          "name": "stdout",
          "text": [
            "CODANOMAL removido\n",
            "DTRECORIGA removido\n",
            "SERIESCMAE removido\n",
            "IDADEPAI removido\n",
            "DTULTMENST removido\n"
          ]
        }
      ]
    },
    {
      "cell_type": "markdown",
      "metadata": {
        "id": "7waDgGW1t1k5"
      },
      "source": [
        "### Redução de Dimensionalidade - Principal Component Analysis (PCA)"
      ]
    },
    {
      "cell_type": "code",
      "metadata": {
        "id": "hCRu_GtXlqiJ"
      },
      "source": [
        "sinasc19 = pd.get_dummies(sinasc19)"
      ],
      "execution_count": 36,
      "outputs": []
    },
    {
      "cell_type": "code",
      "metadata": {
        "colab": {
          "base_uri": "https://localhost:8080/"
        },
        "id": "qIcCnXV0MgLK",
        "outputId": "01443156-f184-40d6-cc5c-0ca125e5f81e"
      },
      "source": [
        "x_train, x_test, y_train, y_test = train_test_split(sinasc19.drop('PESO',axis=1),sinasc19['PESO'],test_size=0.3,random_state=42)\n",
        "print(x_train.shape)\n",
        "print(x_test.shape)"
      ],
      "execution_count": 37,
      "outputs": [
        {
          "output_type": "stream",
          "name": "stdout",
          "text": [
            "(3353, 29)\n",
            "(1437, 29)\n"
          ]
        }
      ]
    },
    {
      "cell_type": "code",
      "metadata": {
        "id": "5hj1VGs6qLz4"
      },
      "source": [
        "pca_train = PCA(n_components=29).fit(x_train)\n",
        "x_trar = pca_train.transform(x_train)\n",
        "xtrain = pd.DataFrame(x_trar)\n",
        "\n",
        "pca_test = PCA(n_components=29).fit(x_test)\n",
        "x_tear = pca_test.transform(x_test)\n",
        "xtest = pd.DataFrame(x_tear)"
      ],
      "execution_count": 41,
      "outputs": []
    },
    {
      "cell_type": "markdown",
      "metadata": {
        "id": "KoX2dF-stPYk"
      },
      "source": [
        "## Modelos"
      ]
    },
    {
      "cell_type": "code",
      "metadata": {
        "colab": {
          "base_uri": "https://localhost:8080/"
        },
        "id": "Ig9KX1rxqazB",
        "collapsed": true,
        "outputId": "d6dc8463-4921-4ada-b913-d3e5621c4017"
      },
      "source": [
        "# Random Forest\n",
        "random_forest = RandomForestClassifier(n_estimators=100, min_samples_leaf=3, max_features=0.5, n_jobs=1)\n",
        "random_forest.fit(xtrain, y_train)\n",
        "\n",
        "random_forest.score(xtrain, y_train)\n",
        "acc_random_forest = round(random_forest.score(xtrain, y_train) * 100, 2)\n",
        "print('Acurácia do modelo Random Forest Classifier:',acc_random_forest,'\\n')\n",
        "y_pred = random_forest.predict(xtest)"
      ],
      "execution_count": 42,
      "outputs": [
        {
          "output_type": "stream",
          "name": "stdout",
          "text": [
            "Acurácia do modelo Random Forest Classifier: 97.97 \n",
            "\n"
          ]
        }
      ]
    },
    {
      "cell_type": "code",
      "metadata": {
        "id": "2xLVUMsMqdGz"
      },
      "source": [
        " # Decision Tree\n",
        "decision_tree = DecisionTreeClassifier(max_depth = 3)\n",
        "decision_tree.fit(x_train, y_train)\n",
        "y_pred2 = decision_tree.predict(x_test)\n",
        "acc_decision_tree = round(decision_tree.score(x_train, y_train) * 100, 2)\n",
        "print('Acurácia do modelo Decision Tree Classifier:',acc_decision_tree,'\\n')"
      ],
      "execution_count": null,
      "outputs": []
    },
    {
      "cell_type": "code",
      "metadata": {
        "id": "TTuVgJemtE1Y"
      },
      "source": [
        "# Gaussian Naive Bayes\n",
        "gaussian = GaussianNB()\n",
        "gaussian.fit(x_train, y_train)\n",
        "y_pred3 = gaussian.predict(x_test)\n",
        "acc_gaussian = round(gaussian.score(x_train, y_train) * 100, 2)\n",
        "print('Acurácia do modelo Gaussian Naive Bayes:',acc_gaussian,'\\n')"
      ],
      "execution_count": null,
      "outputs": []
    },
    {
      "cell_type": "code",
      "metadata": {
        "id": "yhGoMGkHqfaJ"
      },
      "source": [
        "# Support Vector Machine\n",
        "linear_svc = LinearSVC()\n",
        "linear_svc.fit(x_train, y_train)\n",
        "y_pred4 = linear_svc.predict(x_test)\n",
        "acc_linear_svc = round(linear_svc.score(x_train, y_train) * 100, 2)\n",
        "print('Acurácia do modelo Support Vector Machine:',acc_linear_svc,'\\n')"
      ],
      "execution_count": null,
      "outputs": []
    },
    {
      "cell_type": "code",
      "metadata": {
        "id": "BL08dVxGqhWu"
      },
      "source": [
        "# Logistic Regression\n",
        "logreg = LogisticRegression()\n",
        "logreg.fit(x_train, y_train)\n",
        "y_pred5 = logreg.predict(x_test)\n",
        "acc_log = round(logreg.score(x_train, y_train) * 100, 2)\n",
        "print('Acurácia do modelo Logistic Regression:',acc_log,'\\n')"
      ],
      "execution_count": null,
      "outputs": []
    },
    {
      "cell_type": "markdown",
      "metadata": {
        "id": "SCugOjrgtMgz"
      },
      "source": [
        "## Resultados"
      ]
    },
    {
      "cell_type": "code",
      "metadata": {
        "id": "r52KhaMwqlOL"
      },
      "source": [
        "# Ranking final do percentual de acurácia dos modelos aplicados\n",
        "results = pd.DataFrame({\n",
        "    'Model': ['Random Forest','Decision Tree', 'Gaussian Naive Bayes', 'SVM','Logistic Regression'],\n",
        "    'Score': [acc_random_forest, acc_decision_tree, acc_gaussian, acc_linear_svc, acc_log]})\n",
        "    \n",
        "result_df = results.sort_values(by='Score', ascending=False)\n",
        "result_df = result_df.set_index('Score')\n",
        "result_df.head(9)"
      ],
      "execution_count": null,
      "outputs": []
    }
  ]
}